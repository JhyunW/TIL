{
 "cells": [
  {
   "cell_type": "markdown",
   "metadata": {},
   "source": [
    "# 백 트래킹의 개념\n",
    " 1. 여거 가지 선택지 들이 존재하며 상황에서 한가지를 선택\n",
    " 2. 선택이 이루어지면 새로운 선택지들의 집합이 생성된다\n",
    " 3. 이런 선택을 반복하면서 최종 상태에 도달한다."
   ]
  },
  {
   "cell_type": "code",
   "execution_count": 2,
   "metadata": {},
   "outputs": [
    {
     "name": "stdout",
     "output_type": "stream",
     "text": [
      "조합\n",
      "[1, 2, 3, 0, 0]\n",
      "[1, 2, 4, 0, 0]\n",
      "[1, 2, 5, 0, 0]\n",
      "[1, 3, 4, 0, 0]\n",
      "[1, 3, 5, 0, 0]\n",
      "[1, 4, 5, 0, 0]\n",
      "[2, 3, 4, 0, 0]\n",
      "[2, 3, 5, 0, 0]\n",
      "[2, 4, 5, 0, 0]\n",
      "[3, 4, 5, 0, 0]\n"
     ]
    }
   ],
   "source": [
    "# 조합 콤비네이션, 순열조합\n",
    "# nCr = n개의 요소중 r개로 만들 수 있는 조합\n",
    "# r  현재 사용한 원소의 개수\n",
    "def combination(r, idx):\n",
    "    # 종료 시점\n",
    "    if r == 3:\n",
    "        print(completed_comb)\n",
    "        return\n",
    "    else:\n",
    "        # for문 -> iterable한 요소의 길이 만큼 모두 순회\n",
    "        # range(s, e, default) -> s부터 e까지 1씩 증가\n",
    "        # arr의 항상 0번째부터 N-1 번째까지의 순으로 작성\n",
    "        for i in range(idx, N):\n",
    "            completed_comb[r] = arr[i]\n",
    "            combination(r+1, i+1)\n",
    "arr = [1, 2, 3, 4, 5]\n",
    "N = len(arr)\n",
    "# 완성된 조합 리스트\n",
    "completed_comb = [0] * N\n",
    "print('조합')\n",
    "combination(0, 0)"
   ]
  },
  {
   "cell_type": "code",
   "execution_count": null,
   "metadata": {},
   "outputs": [],
   "source": [
    "# 최소 생산비용\n",
    "# nPr : n == r\n",
    "# acc : 현재 경우의 수 까지 누적된 값\n",
    "def permutaion(r, acc):\n",
    "    global result\n",
    "    if acc > result:\n",
    "        return\n",
    "    # 종료 시점\n",
    "    if r == N:\n",
    "        # 무슨 일 할거야?\n",
    "        # 모든 공장 순회 했고\n",
    "        # 각 공장의 비용을 더했는데\n",
    "        # 비교 대상보다 acc의 값이 작으면\n",
    "        if acc < result:\n",
    "            # 그 값이 최솟값\n",
    "            result = acc\n",
    "        return\n",
    "    else:\n",
    "        for i in range(N):\n",
    "            if not visited[i]:\n",
    "                visited[i] = True\n",
    "                # A공장의 1번 제품 생산비용을 acc에 누적 해본다음\n",
    "                permutaion(r+1, acc+arr[r][i])\n",
    "                # A공장이 1번 제품을 안쓰고, 2번 제품을 썼을때\n",
    "                visited[i] = False\n",
    "T = int(input())\n",
    "for tc in range(1, T+1):\n",
    "    # 배열의 길이\n",
    "    N = int(input())\n",
    "    arr = list(map(int, input().split()))\n",
    "    # arr [?][i] 사용여부\n",
    "    visited = [0] * N\n",
    "    result = sum(sum(arr, []))\n",
    "    permutaion(0, 0)\n",
    "    print(result)"
   ]
  },
  {
   "cell_type": "code",
   "execution_count": null,
   "metadata": {},
   "outputs": [],
   "source": [
    "import heapq\n",
    "\n",
    "data = [10, 15, 100, 1]\n",
    "heapq.heapify(data)\n",
    "print(data)\n",
    "heapq.heappop(data)\n",
    "print(data)\n",
    "heapq.heappush(data,2)\n",
    "print(data)"
   ]
  },
  {
   "cell_type": "code",
   "execution_count": 5,
   "metadata": {},
   "outputs": [
    {
     "name": "stdout",
     "output_type": "stream",
     "text": [
      "#1 9.100000\n"
     ]
    }
   ],
   "source": [
    "# SW Expert\n",
    "# 동철이의 일 분배\n",
    "\n",
    "def percent(line, per):  # 몇번라인, 가격 합\n",
    "    global result\n",
    "    if line == N:  # 모든 라인을 돌고 난 후\n",
    "        if per > result:\n",
    "            result = per  # 확률이 초과할 경우 리턴\n",
    "        return\n",
    "    else:\n",
    "        for i in range(N):  # N번 만큼 반복\n",
    "            if visited[i] == 0:\n",
    "                visited[i] = 1  # 1을 칠하고 탐색 시작\n",
    "                percent(line+1, per * arr[line][i])  # 현재 라인의 몇번 제품 가격\n",
    "                visited[i] = 0  # 이 라인이 1번일 경우의 탐색을 다 끝낸후 지우기\n",
    "\n",
    "\n",
    "\n",
    "T = int(input())  # 테케\n",
    "for tc in range(1, T+1):\n",
    "    N = int(input())  # 각 정수 pi는 확률\n",
    "    # arr = [list(map(int, input().split()))]\n",
    "    # for i in range(N):  # 구역별 확률 입력\n",
    "    #     for j in range(N): # 확률 구하는 공식\n",
    "    #         arr[i][j] /= 100\n",
    "    # lambda로 줄여보면\n",
    "    arr = [list(map(lambda x: int(x)/100, input().split()))for _ in range(N)]\n",
    "\n",
    "    result = 0  # 최대 확률\n",
    "    visited = [0] * N  # 한것 체크\n",
    "\n",
    "    percent(0, 1)\n",
    "    result = result*100\n",
    "    print(f'#{tc} {result:7f}')  # 7번째자리에서 반올림\n",
    "    "
   ]
  }
 ],
 "metadata": {
  "kernelspec": {
   "display_name": "Python 3",
   "language": "python",
   "name": "python3"
  },
  "language_info": {
   "codemirror_mode": {
    "name": "ipython",
    "version": 3
   },
   "file_extension": ".py",
   "mimetype": "text/x-python",
   "name": "python",
   "nbconvert_exporter": "python",
   "pygments_lexer": "ipython3",
   "version": "3.9.13"
  },
  "orig_nbformat": 4
 },
 "nbformat": 4,
 "nbformat_minor": 2
}
