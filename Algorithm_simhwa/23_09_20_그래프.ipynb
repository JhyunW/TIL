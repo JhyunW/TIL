{
 "cells": [
  {
   "cell_type": "markdown",
   "metadata": {},
   "source": [
    "### 그래프\n",
    " - 데이터 간 관계를 표현한 자료구조 (관계란 : 데이터 사이의 연관성)"
   ]
  },
  {
   "cell_type": "code",
   "execution_count": 2,
   "metadata": {},
   "outputs": [
    {
     "ename": "TypeError",
     "evalue": "print() argument after * must be an iterable, not function",
     "output_type": "error",
     "traceback": [
      "\u001b[1;31m---------------------------------------------------------------------------\u001b[0m",
      "\u001b[1;31mTypeError\u001b[0m                                 Traceback (most recent call last)",
      "\u001b[1;32mc:\\Users\\SSAFY\\Desktop\\TIL\\Algorithm_simhwa\\23_09_20_그래프.ipynb Cell 2\u001b[0m line \u001b[0;36m4\n\u001b[0;32m     <a href='vscode-notebook-cell:/c%3A/Users/SSAFY/Desktop/TIL/Algorithm_simhwa/23_09_20_%EA%B7%B8%EB%9E%98%ED%94%84.ipynb#W3sZmlsZQ%3D%3D?line=37'>38</a>\u001b[0m     \u001b[39m# 출력을 위한 반환\u001b[39;00m\n\u001b[0;32m     <a href='vscode-notebook-cell:/c%3A/Users/SSAFY/Desktop/TIL/Algorithm_simhwa/23_09_20_%EA%B7%B8%EB%9E%98%ED%94%84.ipynb#W3sZmlsZQ%3D%3D?line=38'>39</a>\u001b[0m     \u001b[39mreturn\u001b[39;00m visited\n\u001b[1;32m---> <a href='vscode-notebook-cell:/c%3A/Users/SSAFY/Desktop/TIL/Algorithm_simhwa/23_09_20_%EA%B7%B8%EB%9E%98%ED%94%84.ipynb#W3sZmlsZQ%3D%3D?line=40'>41</a>\u001b[0m \u001b[39mprint\u001b[39;49m(\u001b[39m*\u001b[39;49mdfs_stack)\n\u001b[0;32m     <a href='vscode-notebook-cell:/c%3A/Users/SSAFY/Desktop/TIL/Algorithm_simhwa/23_09_20_%EA%B7%B8%EB%9E%98%ED%94%84.ipynb#W3sZmlsZQ%3D%3D?line=41'>42</a>\u001b[0m \u001b[39m# 재귀\u001b[39;00m\n\u001b[0;32m     <a href='vscode-notebook-cell:/c%3A/Users/SSAFY/Desktop/TIL/Algorithm_simhwa/23_09_20_%EA%B7%B8%EB%9E%98%ED%94%84.ipynb#W3sZmlsZQ%3D%3D?line=42'>43</a>\u001b[0m \n\u001b[0;32m     <a href='vscode-notebook-cell:/c%3A/Users/SSAFY/Desktop/TIL/Algorithm_simhwa/23_09_20_%EA%B7%B8%EB%9E%98%ED%94%84.ipynb#W3sZmlsZQ%3D%3D?line=43'>44</a>\u001b[0m \n\u001b[0;32m     <a href='vscode-notebook-cell:/c%3A/Users/SSAFY/Desktop/TIL/Algorithm_simhwa/23_09_20_%EA%B7%B8%EB%9E%98%ED%94%84.ipynb#W3sZmlsZQ%3D%3D?line=44'>45</a>\u001b[0m \u001b[39m# 인접 리스트\u001b[39;00m\n",
      "\u001b[1;31mTypeError\u001b[0m: print() argument after * must be an iterable, not function"
     ]
    }
   ],
   "source": [
    "# 인접 행렬\n",
    "# 장점 : 구현이쉬움\n",
    "# 단점 : 메모리 낭비, 0도 표시하기 때문\n",
    "graph = [\n",
    "    [0, 1, 0, 1, 0],\n",
    "    [1, 0, 1, 1, 1],\n",
    "    [0, 1, 0, 0, 0],\n",
    "    [1, 1, 0, 0, 1],\n",
    "    [0, 1, 0, 1, 0]\n",
    "]\n",
    "\n",
    "# DFS\n",
    "# stack 버전\n",
    "def dfs_stack(start):\n",
    "    visited = []\n",
    "    stack = [start]\n",
    "\n",
    "    while stack:  # 스택이 빌때까지 반복\n",
    "        now = stack.pop()\n",
    "        # 이미 방문한 지점이면 컨티뉴\n",
    "        if now in visited:\n",
    "            continue\n",
    "\n",
    "        # 방문하지 않은 지점이라면, 방문 표시\n",
    "        visited.append(now)\n",
    "\n",
    "        # 갈 수 있는 곳들을 stack에 추가\n",
    "        for next in range(5):  # 반대는 range(4, -1, -1)\n",
    "            # 연결이 안되어 있다면 컨티뉴\n",
    "            if graph[now][next] == 0:\n",
    "                continue\n",
    "\n",
    "            # 방문한 지점이라면 stack에 추가하지 않음\n",
    "            if next in visited:\n",
    "                continue\n",
    "            \n",
    "            stack.append(next)\n",
    "    # 출력을 위한 반환\n",
    "    return visited\n",
    "\n",
    "print(*dfs_stack)\n",
    "\n",
    "\n",
    "# 재귀\n",
    "# MAP 크기(길이)를 알 때 append 형시 말고 밑에와 같이 사용하면 훨씬 빠름\n",
    "visited = [0] * 5\n",
    "path = []  # 방문 순서 기록\n",
    "\n",
    "def dfs(now):\n",
    "    visited[now] = 1  # 현재 지점 방문 표시\n",
    "    print(now, end=' ')\n",
    "    # 인전합 노드들을 방문\n",
    "    for next in range(5):  # 범위를 len(graph[now])으로 바꿔주고\n",
    "        if graph[now][next] == 0:  # 길이 없는 경우만 지워주면 인접 리스트 완성\n",
    "            continue\n",
    "\n",
    "        if visited[next]:\n",
    "            continue\n",
    "\n",
    "        dfs(next)\n",
    "\n",
    "print(dfs)\n",
    "\n"
   ]
  },
  {
   "cell_type": "code",
   "execution_count": 3,
   "metadata": {},
   "outputs": [
    {
     "name": "stdout",
     "output_type": "stream",
     "text": [
      "0 1 3 2 4 "
     ]
    }
   ],
   "source": [
    "# BFS 인접 항목\n",
    "graph = [\n",
    "    [0, 1, 0, 1, 0],\n",
    "    [1, 0, 1, 1, 1],\n",
    "    [0, 1, 0, 0, 0],\n",
    "    [1, 1, 0, 0, 1],\n",
    "    [0, 1, 0, 1, 0]\n",
    "]\n",
    "\n",
    "def bfs(start):\n",
    "    visited = [0] * 5\n",
    "\n",
    "    # 먼저 방문 헀던 것을 먼저 처리해야한다.\n",
    "    queue = [start]\n",
    "    visited[start] = 1\n",
    "\n",
    "    while queue:\n",
    "        # queue의 맨 앞 요소를 꺼냄\n",
    "        now = queue.pop(0)\n",
    "        print(now, end=' ')\n",
    "\n",
    "        # 인전합 노드들을 queue에 추가\n",
    "        for next in range(5):\n",
    "            if graph[now][next] == 0:\n",
    "                continue\n",
    "\n",
    "            if visited[next]:\n",
    "                continue\n",
    "\n",
    "            queue.append(next)\n",
    "            # bfs이므로 여기서 방문 체크를 해도 상관x\n",
    "            visited[next] = 1\n",
    "\n",
    "bfs(0)"
   ]
  },
  {
   "cell_type": "code",
   "execution_count": 25,
   "metadata": {},
   "outputs": [
    {
     "name": "stdout",
     "output_type": "stream",
     "text": [
      "dfs_stack =  0 1 2 3\n"
     ]
    },
    {
     "ename": "TypeError",
     "evalue": "print() argument after * must be an iterable, not function",
     "output_type": "error",
     "traceback": [
      "\u001b[1;31m---------------------------------------------------------------------------\u001b[0m",
      "\u001b[1;31mTypeError\u001b[0m                                 Traceback (most recent call last)",
      "\u001b[1;32mc:\\Users\\SSAFY\\Desktop\\TIL\\Algorithm_simhwa\\23_09_20_그래프.ipynb Cell 4\u001b[0m line \u001b[0;36m5\n\u001b[0;32m     <a href='vscode-notebook-cell:/c%3A/Users/SSAFY/Desktop/TIL/Algorithm_simhwa/23_09_20_%EA%B7%B8%EB%9E%98%ED%94%84.ipynb#W3sZmlsZQ%3D%3D?line=51'>52</a>\u001b[0m             \u001b[39mcontinue\u001b[39;00m\n\u001b[0;32m     <a href='vscode-notebook-cell:/c%3A/Users/SSAFY/Desktop/TIL/Algorithm_simhwa/23_09_20_%EA%B7%B8%EB%9E%98%ED%94%84.ipynb#W3sZmlsZQ%3D%3D?line=53'>54</a>\u001b[0m         dfs(\u001b[39mnext\u001b[39m)\n\u001b[1;32m---> <a href='vscode-notebook-cell:/c%3A/Users/SSAFY/Desktop/TIL/Algorithm_simhwa/23_09_20_%EA%B7%B8%EB%9E%98%ED%94%84.ipynb#W3sZmlsZQ%3D%3D?line=55'>56</a>\u001b[0m \u001b[39mprint\u001b[39;49m(\u001b[39m*\u001b[39;49mdfs)\n",
      "\u001b[1;31mTypeError\u001b[0m: print() argument after * must be an iterable, not function"
     ]
    }
   ],
   "source": [
    "# 인전 리스트\n",
    "# 인접 리스트\n",
    "# 갈 수 있는 지점만 지정하자\n",
    "# 주의사항\n",
    "# 각 노드마다 갈 수 있는 지점의 개수가 다름\n",
    "# -> range쓸때 index조심\n",
    "# 메모리가 인접 행렬에 비해 훨씬 효율적\n",
    "\n",
    "graph = [\n",
    "    [1, 3],\n",
    "    [0, 2, 3, 4],\n",
    "    [1],\n",
    "    [0, 1, 4],\n",
    "    [1, 3]\n",
    "]  # 딕셔너리로도 구현 가능 ex) '0':[1, 3]  0번이 몇번볓번 갈 수 있다.\n",
    "\n",
    "def dfs_stack(start):\n",
    "    visited = []\n",
    "    stack = [start]\n",
    "\n",
    "    while stack:  # 스택이 빌때까지 반복\n",
    "        now = stack.pop()\n",
    "        # 이미 방문한 지점이면 컨티뉴\n",
    "        if now in visited:\n",
    "            continue\n",
    "\n",
    "        # 방문하지 않은 지점이라면, 방문 표시\n",
    "        visited.append(now)\n",
    "\n",
    "        # 갈 수 있는 곳들을 stack에 추가\n",
    "        for next in range(len(graph[now])-1, -1, -1):\n",
    "            # 연결이 안되어 있다는건 애초에 저장이 안됨 늦 0은 저장 안함.\n",
    "            # 방문한 지점이라면 stack에 추가하지 않음\n",
    "            if next in visited:\n",
    "                continue\n",
    "            \n",
    "            stack.append(next)\n",
    "    # 출력을 위한 반환\n",
    "    return visited\n",
    "print('dfs_stack = ', end= ' ')\n",
    "print(*dfs_stack(0))\n",
    "\n",
    "visited = [0] * 5\n",
    "path = []  # 방문 순서 기록\n",
    "\n",
    "def dfs(now):\n",
    "    visited[now] = 1  # 현재 지점 방문 표시\n",
    "    print(now, end=' ')\n",
    "    # 인전합 노드들을 방문\n",
    "    for next in range(len(graph[now])):\n",
    "        if visited[next]:\n",
    "            continue\n",
    "\n",
    "        dfs(next)\n",
    "\n",
    "print(*dfs)"
   ]
  },
  {
   "cell_type": "markdown",
   "metadata": {},
   "source": [
    "### 서로소 집합 : Disjoint_sets or Union Find 라고함\n",
    " - 서로소 또는 상호배타 집합들은 서로 중복 포함된 원소가 없는 집합들, 다시 말해 교집합 x\n",
    " - 집합에 속한 하나의 특정 멤버를 통해 각 집합들을 구분한다. 이를 대표자 라고 한다.\n",
    "\n",
    " #### 상호배타 집합을 표현하는 방법\n",
    "  - 연결 리스트\n",
    "  - 트리\n",
    "#### 상호배타 집합 연산\n",
    " - Make-Set(x)\n",
    " - Find-Set(x)  :  각 요소가 내가 혹한 그룹의 대표자를 어떻게 찾을지\n",
    " - Union(x, y)  :  대표자 저장"
   ]
  },
  {
   "cell_type": "code",
   "execution_count": 23,
   "metadata": {},
   "outputs": [
    {
     "name": "stdout",
     "output_type": "stream",
     "text": [
      "0\n",
      "0\n",
      "0와 2는 같은 집합에 속해 있습니다\n"
     ]
    }
   ],
   "source": [
    "# 1 ~ 10\n",
    "# make set - 집합을 만들어 주는 과정\n",
    "# 각 요소가 가리키는 값이 부모\n",
    "parent = [ i for i in range(10)]\n",
    "\n",
    "# find \n",
    "def find_set(x):\n",
    "    if parent[x] == x:\n",
    "        return x  # 만약 자기 자신을 부모로 받고있으면 그대로 반환\n",
    "    \n",
    "    return find_set(parent[x])  # 너의 부모가 가리키는것을 찾아와라\n",
    "\n",
    "# Union\n",
    "def union(x, y):\n",
    "    # 1. 이미 같은 집합인 지 체크\n",
    "    x = find_set(x)\n",
    "    y = find_set(y)\n",
    "\n",
    "    # 대표자가 같으니 같은 지합이다.\n",
    "    if x == y:\n",
    "        print('싸이클 발생')\n",
    "        return\n",
    "    # 2. 다른 집합이라면, 같은 대표자로 수정\n",
    "    if x < y:\n",
    "        parent[y] = x\n",
    "    else:\n",
    "        parent[x] = y\n",
    "    \n",
    "    # parent[y] = x  이걸로도 됨\n",
    "\n",
    "union(0, 1)\n",
    "union(2, 3)\n",
    "union(1, 3)\n",
    "# 대표자 검색\n",
    "print(find_set(2))\n",
    "print(find_set(3))\n",
    "# 같은 그룹인 지 판별\n",
    "t_x = 0\n",
    "t_y = 2\n",
    "if find_set(t_x) == find_set(t_y):\n",
    "    print(f'{t_x}와 {t_y}는 같은 집합에 속해 있습니다')\n",
    "else:\n",
    "    print(f'{t_x}와 {t_y}는 다른 집합에 속해 있습니다')\n"
   ]
  },
  {
   "cell_type": "markdown",
   "metadata": {},
   "source": [
    "#### 연산의 효율을 높이는 방법\n",
    " - "
   ]
  }
 ],
 "metadata": {
  "kernelspec": {
   "display_name": "Python 3",
   "language": "python",
   "name": "python3"
  },
  "language_info": {
   "codemirror_mode": {
    "name": "ipython",
    "version": 3
   },
   "file_extension": ".py",
   "mimetype": "text/x-python",
   "name": "python",
   "nbconvert_exporter": "python",
   "pygments_lexer": "ipython3",
   "version": "3.9.13"
  },
  "orig_nbformat": 4
 },
 "nbformat": 4,
 "nbformat_minor": 2
}
