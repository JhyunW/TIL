{
 "cells": [
  {
   "cell_type": "markdown",
   "metadata": {},
   "source": [
    "#### 최소 비용 신장 트리(MST)\n",
    " - 그래프에서 최소 비용 문제\n",
    "  1. 모든 정점을 연결하는 간선들의 가중치의 합이 최소가 되는 트리\n",
    "  2. 두 정점 사이의 최소 비용의 경로 찾기\n",
    "\n",
    " - 신장 트리\n",
    "  1. n개의 정점으로 이루어진 무방향 그래프에서 n개의 정점과 n-1개의 간선으로 이루어진 트리\n",
    "\n",
    " - 최소 신장 트리\n",
    "  1. 무방향 가중치 그래프에서 신장 트리를 구성하는 간선들의 가중치의 합이 최소의 신장 트리 "
   ]
  },
  {
   "cell_type": "markdown",
   "metadata": {},
   "source": [
    "#### prim 알고리즘\n",
    " - 하나의 정점에서 연결된 간선들 중에 하나씩 선택해서 MST를 만들어 가는 방식\n",
    "  1. 임의 정점을 하나 선택해서 시작\n",
    "  2. 선택한 정점과 인접하는 정점들 중의 최소 비용의 간선이 존재하는 정점을 선택\n",
    "  3. 모든 정점이 선택될 때 까지 1, 2 과정 반복\n",
    "\n",
    "\n",
    " - 서로소인 2개의 집합 정보를 유지\n",
    "  1. 트리 정점들 - MST를 만들기 위해 선택된 정점들\n",
    "  2. 비트리 정점들 - 선택 되지 않은 정점들"
   ]
  },
  {
   "cell_type": "code",
   "execution_count": 2,
   "metadata": {},
   "outputs": [
    {
     "name": "stdout",
     "output_type": "stream",
     "text": [
      "(-3, 2)\n",
      "(-2, 3)\n",
      "(-1, 1)\n"
     ]
    },
    {
     "ename": "ValueError",
     "evalue": "not enough values to unpack (expected 2, got 1)",
     "output_type": "error",
     "traceback": [
      "\u001b[1;31m---------------------------------------------------------------------------\u001b[0m",
      "\u001b[1;31mValueError\u001b[0m                                Traceback (most recent call last)",
      "\u001b[1;32mc:\\Users\\SSAFY\\Desktop\\TIL\\Algorithm_simhwa\\23_09_21.ipynb Cell 3\u001b[0m line \u001b[0;36m2\n\u001b[0;32m     <a href='vscode-notebook-cell:/c%3A/Users/SSAFY/Desktop/TIL/Algorithm_simhwa/23_09_21.ipynb#W3sZmlsZQ%3D%3D?line=24'>25</a>\u001b[0m     \u001b[39mprint\u001b[39m(heapq\u001b[39m.\u001b[39mheappop(heap))\n\u001b[0;32m     <a href='vscode-notebook-cell:/c%3A/Users/SSAFY/Desktop/TIL/Algorithm_simhwa/23_09_21.ipynb#W3sZmlsZQ%3D%3D?line=26'>27</a>\u001b[0m prim(\u001b[39m0\u001b[39m)\n\u001b[1;32m---> <a href='vscode-notebook-cell:/c%3A/Users/SSAFY/Desktop/TIL/Algorithm_simhwa/23_09_21.ipynb#W3sZmlsZQ%3D%3D?line=27'>28</a>\u001b[0m V, E \u001b[39m=\u001b[39m \u001b[39mmap\u001b[39m(\u001b[39mint\u001b[39m, \u001b[39minput\u001b[39m()\u001b[39m.\u001b[39msplit())\n\u001b[0;32m     <a href='vscode-notebook-cell:/c%3A/Users/SSAFY/Desktop/TIL/Algorithm_simhwa/23_09_21.ipynb#W3sZmlsZQ%3D%3D?line=28'>29</a>\u001b[0m \u001b[39m# 인접행렬 시간이 널널할때\u001b[39;00m\n\u001b[0;32m     <a href='vscode-notebook-cell:/c%3A/Users/SSAFY/Desktop/TIL/Algorithm_simhwa/23_09_21.ipynb#W3sZmlsZQ%3D%3D?line=29'>30</a>\u001b[0m graph \u001b[39m=\u001b[39m [[\u001b[39m0\u001b[39m] \u001b[39m*\u001b[39m V \u001b[39mfor\u001b[39;00m _ \u001b[39min\u001b[39;00m \u001b[39mrange\u001b[39m(V)]\n",
      "\u001b[1;31mValueError\u001b[0m: not enough values to unpack (expected 2, got 1)"
     ]
    }
   ],
   "source": [
    "# primㅇ 알고리즘\n",
    "# 7 11\n",
    "# 0 1 32\n",
    "# 0 2 31\n",
    "# 0 5 60\n",
    "# 0 6 51\n",
    "# 1 2 21\n",
    "# 2 4 46\n",
    "# 2 6 25\n",
    "# 3 4 34\n",
    "# 3 5 18\n",
    "# 3 4 40\n",
    "# 4 6 51\n",
    "\n",
    "import heapq  # 힙 내장함수\n",
    "\n",
    "def prim(start):\n",
    "    heap = []\n",
    "    # MST 에 포함되었는지 여부\n",
    "    MST = [0] * V\n",
    "    # 가중치, 정점 정보\n",
    "    heapq.heappush(heap, (0, start))\n",
    "    sum_weight = 0\n",
    "    while heap:\n",
    "        # 가장 작은 가중치를 가진 정점을 꺼냄\n",
    "        weight, v = heapq.heappop(heap)\n",
    "        # 갈 수 있는 노드라면 pass\n",
    "        if MST[v]:\n",
    "            continue\n",
    "        # 방문 체크\n",
    "        MST[v] = 1\n",
    "\n",
    "        # 누적합 추가\n",
    "        sum_weight += weight\n",
    "\n",
    "        # 갈 수 있는 노드들을 체크\n",
    "        for next in range(V):\n",
    "            # 갈 수 없거나 이미 방문했다면 pass\n",
    "            if graph[v][next] == 0 or MST[next]:\n",
    "                continue\n",
    "\n",
    "            heapq.heappush(heap, (graph[v][next], next))\n",
    "    \n",
    "    return sum_weight\n",
    "\n",
    "V, E = map(int, input().split())\n",
    "# 인접행렬 시간이 널널할때\n",
    "graph = [[0] * V for _ in range(V)]\n",
    "\n",
    "\n",
    "for _ in range(E):\n",
    "    f, t, w = map(int, input.split())\n",
    "    graph[f][t] = w  # 양방향으로 구현\n",
    "    graph[t][f] = w\n",
    "\n",
    "result = prim(0)\n",
    "print(f'최소비용 = {result}')\n",
    "\n",
    "    "
   ]
  },
  {
   "cell_type": "code",
   "execution_count": 1,
   "metadata": {},
   "outputs": [
    {
     "ename": "ValueError",
     "evalue": "too many values to unpack (expected 2)",
     "output_type": "error",
     "traceback": [
      "\u001b[1;31m---------------------------------------------------------------------------\u001b[0m",
      "\u001b[1;31mValueError\u001b[0m                                Traceback (most recent call last)",
      "\u001b[1;32mc:\\Users\\SSAFY\\Desktop\\TIL\\Algorithm_simhwa\\23_09_21.ipynb Cell 4\u001b[0m line \u001b[0;36m1\n\u001b[0;32m      <a href='vscode-notebook-cell:/c%3A/Users/SSAFY/Desktop/TIL/Algorithm_simhwa/23_09_21.ipynb#W3sZmlsZQ%3D%3D?line=0'>1</a>\u001b[0m \u001b[39m# 모든 간선들 중 비용이 가장 적은 걸 우선으로 고르자, 디버깅 툴 연습하기\u001b[39;00m\n\u001b[0;32m      <a href='vscode-notebook-cell:/c%3A/Users/SSAFY/Desktop/TIL/Algorithm_simhwa/23_09_21.ipynb#W3sZmlsZQ%3D%3D?line=1'>2</a>\u001b[0m \u001b[39m'''\u001b[39;00m\n\u001b[0;32m      <a href='vscode-notebook-cell:/c%3A/Users/SSAFY/Desktop/TIL/Algorithm_simhwa/23_09_21.ipynb#W3sZmlsZQ%3D%3D?line=2'>3</a>\u001b[0m \u001b[39m7 11\u001b[39;00m\n\u001b[0;32m      <a href='vscode-notebook-cell:/c%3A/Users/SSAFY/Desktop/TIL/Algorithm_simhwa/23_09_21.ipynb#W3sZmlsZQ%3D%3D?line=3'>4</a>\u001b[0m \u001b[39m0 1 32\u001b[39;00m\n\u001b[1;32m   (...)\u001b[0m\n\u001b[0;32m     <a href='vscode-notebook-cell:/c%3A/Users/SSAFY/Desktop/TIL/Algorithm_simhwa/23_09_21.ipynb#W3sZmlsZQ%3D%3D?line=13'>14</a>\u001b[0m \u001b[39m4 6 51\u001b[39;00m\n\u001b[0;32m     <a href='vscode-notebook-cell:/c%3A/Users/SSAFY/Desktop/TIL/Algorithm_simhwa/23_09_21.ipynb#W3sZmlsZQ%3D%3D?line=14'>15</a>\u001b[0m \u001b[39m'''\u001b[39;00m\n\u001b[1;32m---> <a href='vscode-notebook-cell:/c%3A/Users/SSAFY/Desktop/TIL/Algorithm_simhwa/23_09_21.ipynb#W3sZmlsZQ%3D%3D?line=15'>16</a>\u001b[0m V, E \u001b[39m=\u001b[39m \u001b[39mmap\u001b[39m(\u001b[39mint\u001b[39m, \u001b[39minput\u001b[39m()\u001b[39m.\u001b[39msplit())\n\u001b[0;32m     <a href='vscode-notebook-cell:/c%3A/Users/SSAFY/Desktop/TIL/Algorithm_simhwa/23_09_21.ipynb#W3sZmlsZQ%3D%3D?line=16'>17</a>\u001b[0m edge \u001b[39m=\u001b[39m []\n\u001b[0;32m     <a href='vscode-notebook-cell:/c%3A/Users/SSAFY/Desktop/TIL/Algorithm_simhwa/23_09_21.ipynb#W3sZmlsZQ%3D%3D?line=17'>18</a>\u001b[0m \u001b[39mfor\u001b[39;00m _ \u001b[39min\u001b[39;00m \u001b[39mrange\u001b[39m(E):\n",
      "\u001b[1;31mValueError\u001b[0m: too many values to unpack (expected 2)"
     ]
    }
   ],
   "source": [
    "# 모든 간선들 중 비용이 가장 적은 걸 우선으로 고르자, 디버깅 툴 연습하기\n",
    "'''\n",
    "7 11\n",
    "0 1 32\n",
    "0 2 31\n",
    "0 5 60\n",
    "0 6 51\n",
    "1 2 21\n",
    "2 4 46\n",
    "2 6 25\n",
    "3 4 34\n",
    "3 5 18\n",
    "3 4 40\n",
    "4 6 51\n",
    "'''\n",
    "V, E = map(int, input().split())\n",
    "edge = []\n",
    "for _ in range(E):\n",
    "    f, t, w = map(int, input().split())\n",
    "    edge.append([f, t, w])\n",
    "\n",
    "# w 를 기준으로 정렬\n",
    "edge.sort(key=lambda x: x[2])  # x 2번 인덱스 기준으로 정렬하라\n",
    "\n",
    "# 사이클 발생 여부를 union find 로 해결\n",
    "parents = [i for i in range(V)]\n",
    "\n",
    "def find_set(x):\n",
    "    if parents[x] == x:\n",
    "        return x\n",
    "    \n",
    "    parents[x] = find_set(parents[x])\n",
    "    return parents[x]\n",
    "\n",
    "\n",
    "def union(x, y):\n",
    "    x = find_set(x)\n",
    "    y = find_set(y)\n",
    "\n",
    "    if x == y:\n",
    "        return\n",
    "    \n",
    "    if x < y:\n",
    "        parents[y] = x\n",
    "    \n",
    "    else:\n",
    "        parents[x] = y\n",
    "\n",
    "\n",
    "# 현재 방문한 정점 수\n",
    "cnt = 0\n",
    "sum_weight = 0\n",
    "for f, t, w in edge:\n",
    "    # 싸이클이 발생하지 않는다면\n",
    "    if find_set(f) != find_set(t):\n",
    "        cnt += 1\n",
    "        sum_weight += w\n",
    "        union(f, t)\n",
    "        # MST 구성이 끝나면\n",
    "        if cnt == V:\n",
    "            break\n",
    "\n",
    "print(f'최소 비용 = {sum_weight}')\n"
   ]
  },
  {
   "cell_type": "markdown",
   "metadata": {},
   "source": [
    "#### 최단 경로 정의\n",
    " - 간선의 가중치가 있는 그래프에서 두 정점 사이의 경로들 중에 간선의 가중치의 합이 최소인 경로\n",
    "\n",
    "#### 하나의 시작 정점에서 끝 정점까지의 최단경로\n",
    " - 다익스트라 알고리즘\n",
    "  - 음의 가중치를 허용하지 않음\n",
    "\n",
    " - 벨만-포드 알고리즘\n",
    "  - 음의 가중치 허용\n",
    "\n",
    "## Dijkstar 알고리즘 (다익스트라)\n",
    " - 시작 정점에서 거리가 최소인 정점을 선택해 나가면서 최단 경로를 구하는 방식\n",
    " - 시작정점 에서 끝겅점 까지의 최단 경로에 정점 x가 존재한다.\n",
    " - 탐욕 기법을 사용한 알고리즘으로 MST의 프림 알고리즘과 유사하다"
   ]
  },
  {
   "cell_type": "markdown",
   "metadata": {},
   "source": [
    "### 방법별 적절한 사용\n",
    "  1. 그래프 탐색\n",
    "   - 완전 탐색 : DFS, BFS\n",
    "\n",
    "  2. 서로소 집합\n",
    "   - 대표 데이터 비교\n",
    "   - 그래프 에서는 싸이클 판별\n",
    "\n",
    "  3. 최소 비용\n",
    "   - 최소 신장트리MST : 전체 그래프에서 총합이 최소인 신장 트리\n",
    "   - 최단 거리 다익스트라 : 정점 사이의 거리가 최단인 경로 찾기"
   ]
  }
 ],
 "metadata": {
  "kernelspec": {
   "display_name": "Python 3",
   "language": "python",
   "name": "python3"
  },
  "language_info": {
   "codemirror_mode": {
    "name": "ipython",
    "version": 3
   },
   "file_extension": ".py",
   "mimetype": "text/x-python",
   "name": "python",
   "nbconvert_exporter": "python",
   "pygments_lexer": "ipython3",
   "version": "3.9.13"
  },
  "orig_nbformat": 4
 },
 "nbformat": 4,
 "nbformat_minor": 2
}
