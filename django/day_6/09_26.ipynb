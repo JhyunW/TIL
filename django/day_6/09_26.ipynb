{
 "cells": [
  {
   "cell_type": "markdown",
   "metadata": {},
   "source": [
    "### Django Form\n",
    " - From class 정의 : 상속을 받고 사용해야함.\n",
    " - 사용자로부터 데이터를 수집하고 처리하기위한 도구\n",
    " - HTML form의 생성, 데이 터 유효성 검사 및 처리를 쉽게 할 수 있도록 도와주는 도구\n",
    "\n",
    "\n",
    "### Widgets\n",
    " - HTML 'input' element의 표현을 담당\n",
    "\n",
    "\n",
    "\n",
    "### 공백 데이터가 유효하지 않은 이유\n",
    " - 별도로 명시하지 않았지만 모델 필드에선 기본적으로 빈 값은 허용하지 않는 제약조건이 설정되어있음\n",
    "\n",
    "  - 빈 값은 is_valid()에 의해 False로 평가되고 form객체에는 그에 맞는 에러 메시지가 포함되어 다음 코드로 진행됨\n",
    "\n",
    "\n"
   ]
  }
 ],
 "metadata": {
  "language_info": {
   "name": "python"
  },
  "orig_nbformat": 4
 },
 "nbformat": 4,
 "nbformat_minor": 2
}
