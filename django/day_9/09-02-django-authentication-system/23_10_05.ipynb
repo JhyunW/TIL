{
 "cells": [
  {
   "cell_type": "markdown",
   "metadata": {},
   "source": [
    "### 회원가입\n",
    " 1. UserCreationForm()\n",
    "  - 회원 가입시 사용자 입력 데이터를 받을 built-in ModelForm\n",
    "\n",
    " 2. get_user_model()\n",
    "  - 현재 프로젝트에서 활성화된 사용자 모델을 반환하는 함수\n",
    "\n",
    " 3. UserChangeForm()\n",
    "  - 회원정보 수정 시 사용자 입력 데이터를 받을 built-in Modl Form"
   ]
  }
 ],
 "metadata": {
  "language_info": {
   "name": "python"
  },
  "orig_nbformat": 4
 },
 "nbformat": 4,
 "nbformat_minor": 2
}
