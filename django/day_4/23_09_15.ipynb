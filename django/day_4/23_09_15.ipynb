{
 "cells": [
  {
   "cell_type": "markdown",
   "metadata": {},
   "source": [
    "### ORM\n",
    " - 객체 지향 프로그래밍 언어를 사용하여, 호환되지 않는 유형의 시스템 간에 데이터를 변환하는 기술\n",
    "\n",
    "\n",
    "### QuerySet API\n",
    " - ORM에서 데이터를 검색, 필터링, 정렬 및 그룹화 하는데 사용하는 도구\n",
    " - API 구분 : Article.object.all()\n",
    " - python의 모델 클래스와 인스턴스를 활용해 DB에 데이터를 저장, 조회, 수정, 삭제하는 것\n",
    " ![Alt text](image.png)\n",
    "\n",
    "\n",
    "\n",
    "### Query\n",
    " - 데이터베스이세 특정한 데이터를 보여달라는 요청\n",
    " - 쿼리문을 작성한다 - 원하는데이터를 얻기 위해 데이터 베이스에 요청을 보낼 코드 작성\n",
    "  - 파이썬으로 전될한 코드가 ORM의 의해 SQL로 변환되어 데이터베이스에 전달되며, 데이터베이스의 응답 데이터를 ROm이 QuerySet이라는 자료 형태로 변환하여 우라에게 전달\n",
    "\n",
    "### QuerySet\n",
    " - 데이터베이스에게서 전달 받은 객체 목록(데이터 목록)\n",
    " - Django ORM을 통해 만들어진 자료형\n",
    " - 단, 데이터베이스가 단일한 객체를 반환 할 때는 QuerySet이 아닌 모델의 인스턴스로 변환\n",
    "\n",
    "\n",
    " ### Read\n",
    "  - arr() : Article.object.all() 전체 데이터 조회\n",
    "  - get() : Article.objects.get(pk=num)  단일 데이터 조회\n",
    "   1. 객체를 찾을 수 없으면 DoesNotExist 예외를 발생\n",
    "   2. 둘 이상의 객체를 찾으면 MultipleObjectsReturned 예외 발생\n",
    "   3. 위와 같은 특징을 가지고있기 때문에 primary key와 같이 고유성을 보장하는 조회에서 사용해야함\n",
    "  - filter() : 특정 조건 데이터 조회\n",
    "\n",
    "\n",
    "### get() 특징\n",
    " - 객체를 찾을 수 없으면 DoesNotExist 예외를 발생\n",
    "\n",
    "\n",
    "### Field lookups\n",
    " - 특정 레코드에 대한 조건을 설정하는 방법\n",
    " - QuerySet 메서드 filter(), exclide() 및 get()에 대한 키워드 인자로 지정됨\n",
    " ![Alt text](image-1.png)\n",
    "\n",
    "\n",
    "![Alt text](image-2.png)"
   ]
  }
 ],
 "metadata": {
  "language_info": {
   "name": "python"
  },
  "orig_nbformat": 4
 },
 "nbformat": 4,
 "nbformat_minor": 2
}
