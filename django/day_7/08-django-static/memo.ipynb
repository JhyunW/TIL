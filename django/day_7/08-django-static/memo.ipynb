{
 "cells": [
  {
   "cell_type": "markdown",
   "metadata": {},
   "source": [
    "### 웹 서버와 정적 파일\n",
    " - 특정 위치에 있는 자원을 요청 받아서 응답을 처리하고 제공하는 것\n",
    "\n",
    " - 이는 자원에 접근 가능한 주소가 있다. 라는 의미\n",
    "\n",
    "  - 웹 서버는 요청 받은 URL로 서버에 존재하는 정적 자원을 제공함.\n",
    "\n",
    "  - 정적 파일을 제공하기 위한 경로(URL)가 있어야함.\n",
    "\n",
    "\n",
    "### STATIC 태그\n",
    " - load 스태틱 필수적으로 써야 사용이 가능 + static_URL 확인\n",
    " - 실제 파일이 아닌 URL주소로만 존재\n",
    "  - URL + STATIC_URL + 정적파일 경로"
   ]
  },
  {
   "cell_type": "markdown",
   "metadata": {},
   "source": [
    "### Media Files\n",
    " - 사용자가 웹에서 업로드하는 정적 파일\n",
    "\n",
    "### ImageField()\n",
    " - 이미지 업로드에 사용하는 모델 필드\n",
    " - 업로드 순서\n",
    "  1. form요소의 enctype속성 추가\n",
    "  ![Alt text](image.png)\n",
    "  2. view 함수에서 업로드 파일에 대한 추가 코드 작성\n",
    "  ![Alt text](image-1.png)\n",
    "\n",
    "### 업로드 이미지 수정\n",
    " 1. form요소의 enctype속성 추가\n",
    " 2. view 함수에서 업로드 파일에 대한 추가 코드 작성"
   ]
  },
  {
   "cell_type": "markdown",
   "metadata": {},
   "source": [
    "## static으로 저장하면 좋은점\n",
    "### 성능 및 DB 최적화\n",
    " - 직접 파일을 저장하면 DB 크기가 급격하게 증가\n",
    " -> 성능이 저하 -> 파일 자체는 파일 스시템에 별도로 저장 -> DB에는 그 파일에 대한 문자열 경로만\n",
    "\n",
    "### 유지 보수 관점\n",
    " - 만약 DB에 직접 파일증 저장해버리면 파일을 변경하거나 업데이트 할때 DB를 직접 조작해야함\n",
    " - 파일시스템에 따로두면 파일시스템에서만 건드리면 됨."
   ]
  }
 ],
 "metadata": {
  "language_info": {
   "name": "python"
  },
  "orig_nbformat": 4
 },
 "nbformat": 4,
 "nbformat_minor": 2
}
