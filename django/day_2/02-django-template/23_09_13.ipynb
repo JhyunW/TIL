{
 "cells": [
  {
   "cell_type": "markdown",
   "metadata": {},
   "source": [
    "### Django Template system\n",
    " - 데이터 표현을 제어하면서, 표현과 관련된 부분을 담당"
   ]
  },
  {
   "cell_type": "markdown",
   "metadata": {},
   "source": [
    "### DTL\n",
    " 1. 변수 Variable\n",
    "  - render 함수의 세번째 인자로 덕셔너리 데이터를 사용\n",
    "  - 딕셔너리 key에 해당하는 문자열이 template에서 사용 가능한 변수명이 됨\n",
    "  - dot(.) 를 사용하여 변수 속성에 접근 가능\n",
    " 2. Filters\n",
    "  - 표시할 변수를 수정할 때 사용, 변수 뒤쪽에 사용\n",
    "  - chaned 가 가능하며 일부 필터는 인자를 받기도 함\n",
    "  - 약  60개의 built-in template filters를 제공\n",
    " 3. Tags\n",
    "  - 반복 또는 논리를 수행하여 제어 흐름을 만듦\n",
    "  - 일부 태그는 시작과 종료 태그가 필요\n",
    "  - 약 24 개의 built-in template tags 를 제공\n",
    " 4. Comments 주석\n",
    "  - 한줄은 {##}\n",
    "  - 두줄 이상은 {%%}"
   ]
  },
  {
   "cell_type": "markdown",
   "metadata": {},
   "source": [
    "### 템플릿 상속\n",
    " - 메이지의 공통 요소를 포함, 하위 템플릿이 재정읠 할 수 있는 공간정의\n",
    " - 기본skeleton 템플릿을 작성하여 상속 구조를 구축"
   ]
  },
  {
   "cell_type": "markdown",
   "metadata": {},
   "source": [
    "### extends tag : 자식 템플릿이 부모 템플릿을 확장한다는 것을 랄림\n",
    "### block tag : 하위 템플릿에서 재정의 할 수 있는 블록을 정의\n",
    "### {{picked | ~~ }} : 기능들 예를들어 length등\n",
    "### {{for}}, {{if}} 도 가능\n"
   ]
  },
  {
   "cell_type": "markdown",
   "metadata": {},
   "source": [
    "### action & method\n",
    " - 데이터를 어디로 어떤방식으로 보낼지\n",
    "\n",
    "### name attribute\n",
    " - 입력한 데이터에 붙이는 이름\n",
    " - Query String Parameters URL주소에 피라미터를 통해 서버로 보내는 방법\n",
    "\n",
    " ### HTTP request 객체\n",
    "  - print(request.GET.get('message)) 로 불러오기"
   ]
  },
  {
   "cell_type": "markdown",
   "metadata": {},
   "source": [
    "### Variable Routing\n",
    " - url 주소에 변수를 넣는것\n",
    " - path_converter 이라고 하며 <변수타입:변수명>"
   ]
  }
 ],
 "metadata": {
  "language_info": {
   "name": "python"
  },
  "orig_nbformat": 4
 },
 "nbformat": 4,
 "nbformat_minor": 2
}
