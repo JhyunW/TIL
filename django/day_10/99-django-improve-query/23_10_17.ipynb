{
 "cells": [
  {
   "cell_type": "markdown",
   "metadata": {},
   "source": [
    "### improve query\n",
    "  - 같은 결과를 얻기 위해 DB측에 보내는 쿼리갯수 점차 줄여 조회하기\n",
    "\n",
    "  ### 방법\n",
    "    1. annotate : SQL의 GROUP BY쿼리를 사용\n",
    "    2. select_related : SQL의 INNER JOIN쿼리를 활용 1:1 또는 N:1참조 관계에서만 사용\n",
    "    3. prefetch_related : M:N 또는 N:1 역참조 관계에서 사용 SQL이 아닌 파이썬을 사용한 JOIN을 진행"
   ]
  }
 ],
 "metadata": {
  "language_info": {
   "name": "python"
  }
 },
 "nbformat": 4,
 "nbformat_minor": 2
}
