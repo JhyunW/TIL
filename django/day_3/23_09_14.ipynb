{
 "cells": [
  {
   "cell_type": "markdown",
   "metadata": {},
   "source": [
    "### Django Model\n",
    " - DB의 테이블을 정의하고 데이터를 조작할 수 있는 기능들을 제공 (테이블 구조를 설계하는 청사진'blueprint')"
   ]
  },
  {
   "cell_type": "markdown",
   "metadata": {},
   "source": [
    "### model 클래스\n",
    " - 테이블 설계도 라고도 부름\n",
    " - 개발자는 가장 중요한 테이블 구조를 어떻게 설계할지에 대한 코드만 작성하도록 하기 위한 것\n",
    " - 필드라고도 부름\n",
    " - 테이블 필드의 '데이터 타입' 에 맞게 넣어야 함"
   ]
  },
  {
   "cell_type": "markdown",
   "metadata": {},
   "source": [
    "### Migrations\n",
    "- model 클래스의 변경사항(수정,삭제, 필드 생서으 등)을 DB에 최종 반영하는 방법\n",
    "- 과정 : 프로젝트 셋팅스에 등록 한 후python manage.py makemigrations 코드로 madel calls (초안) ---python manage.py migrate 코드(makemigrations)---> vs 코드로 migration파일인 최종설계도 생성--(migrate)--> db.qulite3\n",
    "- 모델 클래스에 변경사항이 생겼다면, 반드시 새로운 설계도를 생성하고, 이를 DB에 반영해야한다. model class 변경 -> makemigrations -> migrate"
   ]
  },
  {
   "cell_type": "markdown",
   "metadata": {},
   "source": [
    "### 모델 필드\n",
    " - charField() : 길이의 제한이 있는 문자열을 넣을 때 사용 max_length 필수인자\n",
    " - TextField() : 글자의 수가 많을 때 사용\n",
    " - DateTimeField() : 날짜와 시간을넣을 때 사용\n",
    "  1. auto_now : 데이터가 저장될 때마다 자동으로 현재날짜시간을 저장\n",
    "  2. auto_now_add : 데이터가 처음 생성될 때만 자동으로 현재 날짜시간을 저장"
   ]
  },
  {
   "cell_type": "markdown",
   "metadata": {},
   "source": [
    "### Admin site\n",
    " - Django는 추가 설치 및 설정 없이 자동으로 관리자 인터페이스를 제공 -> 데이터 확인 및 테스트 등을 진행하는데 매우 유용"
   ]
  },
  {
   "cell_type": "markdown",
   "metadata": {},
   "source": [
    "### 데이터 베이스 초기화\n",
    " 1. migrations ( 번호 붙은 파일들 0001 등 만 지우기)\n",
    " 2. db.sqlite3 파일 삭제"
   ]
  },
  {
   "cell_type": "markdown",
   "metadata": {},
   "source": [
    "### Migrations 기타 명령어\n",
    "  1. python manage.py showmigrations\n",
    "   - Migrations 파일들이 migrate 됐는지 확인하는 명령어\n",
    "   - [x]표시가 되어 있으면 완료되었음을 읨\n",
    "\n",
    "  2. python manage.py sqlmigrate articles 001\n",
    "   - 해당 migrations 파일이SQL 언어 (DB에서 사용하는 언어)로 어떻게 번역되어 DB에 전달되는지 확인하는 명령어"
   ]
  },
  {
   "cell_type": "markdown",
   "metadata": {},
   "source": [
    "### CRUD\n",
    " - 소프트웨어가 가지고 있는 기본적인 데이터 처리 기능\n",
    "  1. Create(저장)\n",
    "  2. Read(조회)\n",
    "  3. Update(갱신)\n",
    "  4. Delete(삭제)"
   ]
  }
 ],
 "metadata": {
  "language_info": {
   "name": "python"
  },
  "orig_nbformat": 4
 },
 "nbformat": 4,
 "nbformat_minor": 2
}
