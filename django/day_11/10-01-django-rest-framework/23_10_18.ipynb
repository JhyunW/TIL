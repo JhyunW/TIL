{
 "cells": [
  {
   "cell_type": "markdown",
   "metadata": {},
   "source": [
    "### REST API : 어플리케이션 프로그래밍 인터페이스\n",
    "  - 서로다른 프로그램간에 요청과 응답을 받을 수 있도록 만든 체계\n",
    "\n",
    "### HTTP Request Methods\n",
    "  - 리소스에 대한 행위를 정의 HTTP verbs라고도함\n",
    "    1. GET : 서버에 리소스의 표현 불러올때, 데이터만 검색\n",
    "    2. POST : 데이터를 지정된 리소스에 제출, 서버 상태를 변경\n",
    "    3. PUT : 요청한 주소의 리소스를 수정\n",
    "    4. DELETE : 지정된 리소스를 삭제\n",
    "\n",
    "### HTTP response status codes\n",
    "  - 특정 HTTP 요청이 성공적으로 완료 되었는지 여부를 나타냄\n",
    "    1. Informational responses (100~199)\n",
    "    2. Successful '' (200~299)\n",
    "    3. Redirection messages (300~399)\n",
    "    4. Client error response(400~499)\n",
    "    5. Server error ''(500~599)\n",
    "\n",
    "### POST\n",
    "  - 게시글 생성 성공 : 201 Created\n",
    "  - 데이터 생성 실패 : 400 Bad request"
   ]
  }
 ],
 "metadata": {
  "language_info": {
   "name": "python"
  }
 },
 "nbformat": 4,
 "nbformat_minor": 2
}
