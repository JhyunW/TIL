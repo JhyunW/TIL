{
 "cells": [
  {
   "cell_type": "markdown",
   "metadata": {},
   "source": [
    "## 날씨 데이터를 활용한 REST API Server 구축\n",
    "  - /create/ 사용x\n",
    "  - http method 표기하자\n",
    "\n",
    "## 무슨 서버를 구축할까?\n",
    "  1. 수집\n",
    "  2. DB 저장\n",
    "  3. 반환하는 API\n",
    "  4. GET 이용 잘하기\n",
    "  5. 27dabc95e59303def4abeab9a291cd2e 오픈Ai 키\n",
    "\n",
    "## 순서\n",
    "  1. urls 먼저 설정 -> views 연결된 함수 설정\n"
   ]
  }
 ],
 "metadata": {
  "language_info": {
   "name": "python"
  }
 },
 "nbformat": 4,
 "nbformat_minor": 2
}
