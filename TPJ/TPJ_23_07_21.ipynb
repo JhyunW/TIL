{
 "cells": [
  {
   "cell_type": "markdown",
   "metadata": {},
   "source": [
    "# 데이터를 가져오는 방법\n",
    "  1. 전문용어 이해\n",
    "    - 서버 : 부탁을 받으면 처리해주거나, 부탁대로 원하는 값을 돌려주는 역할\n",
    "    - 클라이언트 : 부탁하는 역할 (클라이언트가 요청하는 방법을 request 라고 함)\n",
    "    ex) 클라이언트 ----너가 가진 정보 줘 ---> 서버\n",
    "          크롬    <-------원하는 정보 줄게-- 네이버\n",
    "\n",
    "  2. 클라이언트가 요청을 하는 두가지 방법\n",
    "    - 브라우저를 이용해 주소를 입력\n",
    "    - 서버에 정보를 달라는 파이썬 코드를 작성\n",
    "\n",
    "  3. 코드 이해하기\n",
    "    - url : 요청을 보내는 서버의 주소\n",
    "    - requests.get(url) : 해당 서버에 데이터를 달라고 요청을 보내는 함수\n",
    "    - .json() : 내부의 데이터를 JSON(파이썬의 딕셔너리와 비슷함) 형태로 변환해주는 함수\n",
    "\n",
    "\n",
    "  4. API?\n",
    "    - 클라이언트가 원하는 기능을 수행하기 위해서 서버 측에서 만들어 놓은 프로그램\n",
    "      ex) 데이터 저장, 조회, 수정, 삭제 등\n",
    "    - 서버 측에 특정 주소로 요청이 오면 정해진 기능을 수행하는 API를 미리 만들어 둠\n",
    "\n",
    "  5. 날씨 정보를 제공해주는 API(날씨 정보를 수집하기 위해 찾아야 하는 두가지)\n",
    "    - 날씨 정보를 가지고 있는 서버\n",
    "    - 해당 서버가 제공하는 API\n",
    "    5-1) 오픈 API : 외부에서 사용가능하게 물 개방된 API\n",
    "                    OpenWeatherMap API : 기상 데이터 및 나씨 정보를 제공하는 오픈 API\n",
    "                    링크 : https://openweathermap.org/\n",
    "                    금융상품통합비교공식 API : 금융감독원에서 제공하는 금융 상품 정보를 제공\n",
    "         - 주의 사항 ) 악성 사용자 방지를 위해 API KEY를 활용하여 사용자를 확인 또는 사용량을 제한(일일 또는 월간 사용량 제한 확인 / 사용량이 초과될 경우 요금이 청구될 수 있음)\n"
   ]
  },
  {
   "cell_type": "code",
   "execution_count": 1,
   "metadata": {},
   "outputs": [
    {
     "name": "stdout",
     "output_type": "stream",
     "text": [
      "[{'id': 1, 'userId': 1, 'date': '2020-03-02T00:00:00.000Z', 'products': [{'productId': 1, 'quantity': 4}, {'productId': 2, 'quantity': 1}, {'productId': 3, 'quantity': 6}], '__v': 0}, {'id': 2, 'userId': 1, 'date': '2020-01-02T00:00:00.000Z', 'products': [{'productId': 2, 'quantity': 4}, {'productId': 1, 'quantity': 10}, {'productId': 5, 'quantity': 2}], '__v': 0}, {'id': 3, 'userId': 2, 'date': '2020-03-01T00:00:00.000Z', 'products': [{'productId': 1, 'quantity': 2}, {'productId': 9, 'quantity': 1}], '__v': 0}, {'id': 4, 'userId': 3, 'date': '2020-01-01T00:00:00.000Z', 'products': [{'productId': 1, 'quantity': 4}], '__v': 0}, {'id': 5, 'userId': 3, 'date': '2020-03-01T00:00:00.000Z', 'products': [{'productId': 7, 'quantity': 1}, {'productId': 8, 'quantity': 1}], '__v': 0}, {'id': 6, 'userId': 4, 'date': '2020-03-01T00:00:00.000Z', 'products': [{'productId': 10, 'quantity': 2}, {'productId': 12, 'quantity': 3}], '__v': 0}, {'id': 7, 'userId': 8, 'date': '2020-03-01T00:00:00.000Z', 'products': [{'productId': 18, 'quantity': 1}], '__v': 0}]\n"
     ]
    }
   ],
   "source": [
    "# 파이썬으로 요청을 하여 데이터를 받아오는 방법\n",
    "import requests\n",
    "\n",
    "url = 'https://fakestoreapi.com/carts'\n",
    "response = requests.get(url).json()\n",
    "\n",
    "print(response) \n",
    "\n",
    "# 또는 response = requests.get(url)\n",
    "\n",
    "# print(response.json()) "
   ]
  },
  {
   "cell_type": "code",
   "execution_count": 2,
   "metadata": {},
   "outputs": [
    {
     "name": "stdout",
     "output_type": "stream",
     "text": [
      "{'name': '나나나', 'age': '23', 'hobbies': ['공부하기', '음악듣기']}\n"
     ]
    }
   ],
   "source": [
    "import json # 내장 모듈\n",
    "\n",
    "# json 데이터\n",
    "json_data = '''\n",
    "{\n",
    "    \"name\" : \"나나나\",\n",
    "    \"age\" : \"23\",\n",
    "    \"hobbies\" : [\n",
    "        \"공부하기\",\n",
    "        \"음악듣기\"\n",
    "    ]\n",
    "}\n",
    "'''\n",
    "\n",
    "data = json.loads(json_data)\n",
    "#{'name': '나나나', 'age': '23', 'hobbies': ['공부하기', '음악듣기']}\n",
    "\n",
    "print(data)\n",
    "\n"
   ]
  },
  {
   "cell_type": "markdown",
   "metadata": {},
   "source": [
    "# json이란?\n",
    "  - JavaScript Object Notation 의 약어/ 자바스크립트 객체 표기법\n",
    "  - 경량의 텍스트 기반의 데이터 형식\n",
    "  - 통신 방법이나 프로그래밍 문법이 아니라, 단순히 데이터를 표현하는 표현 방법 중 하나\n",
    "  - 특징으로는 ({})로 둘러싸인 키-값 쌍의 집합이 값은 , 로 구분됨.\n",
    "  - 파싱 : 데이터를 의미 있는 구조로 분석하고 해석하는 과정\n",
    "  - json.loads():JSON 형식의 문자열을 파싱하여 python Dictionary 로 변환"
   ]
  },
  {
   "cell_type": "markdown",
   "metadata": {},
   "source": [
    "# 주피터 간단한 사용법\n",
    "  - y : 코드모드로 변경\n",
    "  - m : 쉘 하나가 마크다운 모드로 변경\n",
    "  - a : 커서 기준 위에 쉘 하나 추가\n",
    "  - b : 커서 기준 아래 쉘 하나 추가\n",
    "  - dd : 쉘 삭제\n",
    "  - shift + enter : 실행 후 커서를 아래로 이동\n",
    "  - ctrl _ enter : 실행 후 커서를 제자리에"
   ]
  },
  {
   "cell_type": "code",
   "execution_count": 14,
   "metadata": {},
   "outputs": [],
   "source": [
    "# API 코드 가져오기\n",
    "API_key = '27dabc95e59303def4abeab9a291cd2e'"
   ]
  },
  {
   "cell_type": "code",
   "execution_count": 15,
   "metadata": {},
   "outputs": [],
   "source": [
    "city_name = \"Seoul ,KR\"\n",
    "url = f'https://api.openweathermap.org/data/2.5/weather?q={city_name}&appid={API_key}'"
   ]
  },
  {
   "cell_type": "code",
   "execution_count": 22,
   "metadata": {},
   "outputs": [
    {
     "data": {
      "text/plain": [
       "30.660000000000025"
      ]
     },
     "execution_count": 22,
     "metadata": {},
     "output_type": "execute_result"
    }
   ],
   "source": [
    "import requests\n",
    "# API 요청 보내기\n",
    "response = requests.get(url).json()\n",
    "# 온도만 출력\n",
    "temp = response['main']['temp']\n",
    "# 섭씨 온도\n",
    "temp -= 273.15\n",
    "temp"
   ]
  },
  {
   "cell_type": "markdown",
   "metadata": {},
   "source": [
    "# 파이썬을 활용한 데이터 수집1\n",
    "## 관통 프로젝트 도전과제(예금 금융)\n",
    "  - 목표 파이썬으로 정기 예금 데이터 수집 및 미션 수행\n",
    "  - key, requewsts, 추출을 통해 꺼내기\n",
    "\n",
    "## 관통 프로젝트2 (날씨정보)\n",
    "  - 파이썬으로 도서 및 아티스트 데이터 가공 및 미션 수행\n",
    "  - 샘플 데이터 제공\n",
    "  - 요구사항에 맞게 JSON 형태 데이터 가공"
   ]
  }
 ],
 "metadata": {
  "kernelspec": {
   "display_name": "Python 3",
   "language": "python",
   "name": "python3"
  },
  "language_info": {
   "codemirror_mode": {
    "name": "ipython",
    "version": 3
   },
   "file_extension": ".py",
   "mimetype": "text/x-python",
   "name": "python",
   "nbconvert_exporter": "python",
   "pygments_lexer": "ipython3",
   "version": "3.9.13"
  },
  "orig_nbformat": 4
 },
 "nbformat": 4,
 "nbformat_minor": 2
}
