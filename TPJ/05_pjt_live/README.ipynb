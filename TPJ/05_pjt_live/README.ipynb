{
 "cells": [
  {
   "cell_type": "markdown",
   "metadata": {},
   "source": [
    "### 웹 크롤링\n",
    "  - 웹 페이지 다운로드 : 해당 웹 페이지의 HTML CSS JavaScript 등의 코드를 가져오는 단계\n",
    "  - 페이지 파싱 : 다운로드 받은 코드를 분석하고 필요한 데이터를 추출하는 단계\n",
    "  - 링크 추출 및 다른 페이지 탐색 : 다른 링크를 추출하고, 다음 단계로 이동하여 원하는 데이터를 추출하는 단계\n",
    "  - 데이터 추출 및 저장 : 분석 및 시각화에 사용하기 위해 데이터를 처리하고 저장하는 단계"
   ]
  },
  {
   "cell_type": "markdown",
   "metadata": {},
   "source": [
    "## 실습 준비단계\n",
    " - 아래 필수 라이브러리를 설치 후 진행\n",
    "  - requests: HTTPS 요청을 보내고 응답을 받을 수 있는 모듈\n",
    "  - BeautifulSoup : HTML문서에서 원하는 데이터를 추출하는 데 사용되는 파이썬 라이브러리\n",
    "  - Selenium : 웹 애플리케이션을 테스트 하고 자동화하기 위한 파이썬 라이브러리\n",
    "    웹 페이지의 동적인 컨텐츠를 가져오기 위해 사용함\n",
    "  - pip install requests beautifulsoup4 selenium\n"
   ]
  }
 ],
 "metadata": {
  "language_info": {
   "name": "python"
  }
 },
 "nbformat": 4,
 "nbformat_minor": 2
}
