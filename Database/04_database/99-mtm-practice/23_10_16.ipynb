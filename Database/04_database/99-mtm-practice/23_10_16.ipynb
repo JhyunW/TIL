{
 "cells": [
  {
   "cell_type": "markdown",
   "metadata": {},
   "source": [
    "### Many to many relationships N:M or M:N\n",
    "  - ManyToManyField 로 중개모델을 자동생성 가능\n",
    "    - 서로 역참조가 가능\n",
    "  - 중개 테이블에 '추가 데이터'를 사용해 M:N 관계를 형성하려는 경우에 사용\n",
    "  - M:N 관계로 맺어진 두 테이블에는 물리적인 변화가 없음\n",
    "  - ManyToManyField는 충개 테이블을 자동으로 생성\n",
    "  - ManyToManyField는 M:N 관계를 맺는 두 모델 어디에 위치해도 상관 없음\n",
    "\n",
    "\n",
    "### Many to manyField(to, **options) : Many to many 관계 설정 시 사용하는 모델 필드\n",
    "\n"
   ]
  }
 ],
 "metadata": {
  "language_info": {
   "name": "python"
  }
 },
 "nbformat": 4,
 "nbformat_minor": 2
}
