{
 "cells": [
  {
   "cell_type": "markdown",
   "metadata": {},
   "source": [
    "### User-Article간 사용 가능한 전체 related manager\n",
    "  - article.user\n",
    "    - 게시글을 작성한 유저-N:1\n",
    "  - user.article.set\n",
    "    - 유저가 작성한 게시글(역참조) - N:1\n",
    "  - article.like_users\n",
    "    - 게시글을 좋아요 한 유저 - M:N\n",
    "  - user.like_articles\n",
    "    - 유저가 좋아요 한 게시글(역참조) - M:N"
   ]
  }
 ],
 "metadata": {
  "language_info": {
   "name": "python"
  }
 },
 "nbformat": 4,
 "nbformat_minor": 2
}
