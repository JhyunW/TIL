{
 "cells": [
  {
   "cell_type": "markdown",
   "metadata": {},
   "source": [
    "### User 모델을 참조하는 2가지 방법\n",
    "  -       방법        :      반환 값                 사용 위치\n",
    "  1. get_user_model() : User Object(객체)     models.py가 아닌 다른 위치\n",
    "  2. settings.AUTH_USER_MODEL : accounts.User(문자열)   models.py   "
   ]
  }
 ],
 "metadata": {
  "language_info": {
   "name": "python"
  }
 },
 "nbformat": 4,
 "nbformat_minor": 2
}
