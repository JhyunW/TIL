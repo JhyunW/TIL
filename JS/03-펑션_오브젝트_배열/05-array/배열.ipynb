{
 "cells": [
  {
   "cell_type": "markdown",
   "metadata": {},
   "source": [
    "## object : 키로 구분된 데이터 집합을 저장하는 자료형\n",
    "  - 이제는 순서가 있는 컬렉션이 필요 => Array 배열\n",
    "  - 배열 구조는 대괄호를 이요해 작성\n",
    "  - length속성을 사용해 길이 재는거 가능 \n",
    "    console.log(names.length) // 3\n",
    "  - 주요 매서드 \n",
    "    1. push / pop : 배열의 끝 요소를 추가, 제거(반환)\n",
    "    2. unshift / shift : 배열의 앞 요소를 추가, 제거(반환)\n",
    "\n",
    "## Array Helper Methods : 배열을 순회하며 특정 로직을 수행하는 메서드\n",
    "  - 메서드 호출 시 인자로 함수를 받는 것이 특징\n",
    "    1. forEach : 인자로 주어진 함수를 배열 요소 각각에 대해 실행\n",
    "    arr.forEach(callback(item[, index[, array]]))\n",
    "      - 콜백 함수는 3가지 매개변수로 구성\n",
    "      - item 처리할 배열의 요소\n",
    "      - iondex 처리할 배열요소의 인덱스\n",
    "      - array forEach를 호출한 배열\n",
    "      - 반환 값 undefined\n",
    "\n",
    "    2. map : 배열 내의 모든 요소 각각에 대해 함수를 호출하고, 함수 호출 결과를 모아 새로운 배열을 반환\n",
    "\n",
    "## 콜백 함수 : 다른 함수에 인자로 전달되는 함수\n",
    "  - 외부 함수내에서 호출되어 일종의 루틴이나 특정 작업을 진행\n",
    "\n",
    "## 배열 순회 종헙\n",
    "  - for loop : 배열의 인덱스를 사용하여 각 요소에 접근\n",
    "  - for ...of : 배열 요소에 바로 접근\n",
    "  - forEach : 간결하고 가독성이 높음, cllback함수를 이용하여 각 요소를 조작하기 용이, brack와continue 사용 불가능\n",
    "\n",
    "\n",
    "## 추가\n",
    "  - 배열 복사 : ...배열이름\n",
    "  - filter, find, some, every"
   ]
  }
 ],
 "metadata": {
  "language_info": {
   "name": "python"
  }
 },
 "nbformat": 4,
 "nbformat_minor": 2
}
