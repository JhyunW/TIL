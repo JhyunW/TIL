{
 "cells": [
  {
   "cell_type": "markdown",
   "metadata": {},
   "source": [
    "## 함수 정의 2가지 방법\n",
    "  - 선언식 : function declaration 익명함수 사용 불가, 호이스팅 있음\n",
    "  function 함수이름 (num1, num2) {\n",
    "    return num1 + num2\n",
    "  }\n",
    "\n",
    "  - (권장)표현식 : function expression 익명함수 사용가능 호이스팅 없음\n",
    "  const 함수이름 = function (num1, num2) {\n",
    "    return num1 - num2\n",
    "  }\n",
    "\n",
    "## 매개변수 정의 방법\n",
    "  - 기본 함수 매개변수 :\n",
    "  const greetiong = function (name = 'Anonymous) {\n",
    "    return ;Hi ${name}\n",
    "  }\n",
    "  gerrting() => Hi Anonymous 입력값 없으면 이렇게 나옴\n",
    "  - 나머지 매개변수 :\n",
    "  const myFunc = function ( param1, paran2, ...restPrams) {\n",
    "    return [param1, param2, restprams]\n",
    "  }\n",
    "  myFucn(1, 2, 3, 4, 5) => [1, 2, [3, 4, 5]]\n",
    "  myFunce(1,2) =? [1,2,[]]\n",
    "  myFunce() => [undefiend, undefiend,[undefiend]]\n",
    "  \n",
    "  만약 지정수보다 더 많이들어오면 그냥 뒤에부분은 사용하지 않음\n",
    "\n",
    "\n",
    "## 전개구문 : Spread syntax\n",
    "  - 배열이나 문자열과 같이 반복 가능한 항목을 펼치는것\n",
    "  - 전개 대상에 따라 역할이 다름\n",
    "    - 배열이나 객체의 요소를 개별적인 값으로 분리하거나 다른 배열이나 객체의 요소를 현재 배열이나 객체에 추가하는 둥\n",
    "  1. 함수와의 활용\n",
    "    - 함수 호출시 인자 확장\n",
    "\n",
    "## 화살표 함수 표현식 : 함수 표현식의 간결한 포현법\n",
    "  1단계 . const arrow = name => 'hllo,${name}'\n",
    "\n",
    "## this\n",
    "  - "
   ]
  }
 ],
 "metadata": {
  "language_info": {
   "name": "python"
  }
 },
 "nbformat": 4,
 "nbformat_minor": 2
}
