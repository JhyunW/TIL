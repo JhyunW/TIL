{
 "cells": [
  {
   "cell_type": "markdown",
   "metadata": {},
   "source": [
    "## 실행환경 종류\n",
    "  - HTML\n",
    "  - JS\n",
    "  - web개발자 도구 console 창\n",
    "\n",
    "## DOM\n",
    "  - 웹 페이지를 구조화된 객체로 제공, 프로그래밍 언어가 페이지 구조에 접근할 수 있는 방법 제공, 문서구조와 스타일, 내용 등을 변경할 수 있도록 함\n",
    "  - DOM에서 모든 요소, 속성, 텍스트는 하나의 객체\n",
    "  - 모두 document 객체의 자식으로 구성됨\n",
    "  - 조작 순서 : 조작하고자 하는 요소를 선택 또는 탐색 -> 선택된 요소의 콘텐츠 또는 속성을 조작\n",
    "\n",
    "  - 선택 메서드\n",
    "    document.querySelector(selector) : 단일 - 제공한 선택자와 일치하며 첫번째로 만나는 element한개 선택 만약 없으면 null 반환\n",
    "    document.querySelectorALL(selector) : 다중 = 제공한 선택자와 일치하는 여러 element를 선택 제공한 CSS sclector를 만족하는 NodeList를 반환\n",
    "\n",
    "## 속성 조작\n",
    "  1. 클래스 속성 조작\n",
    "    - 'classList' property : 요소의 클래스 목록을 DOMTokenList 형태로 반환\n",
    "    - element.classList.add() : 지정한 클래스 값을 추가\n",
    "    - element.classList.remove() : 지정한 클래스 값을 제거\n",
    "    - element.classList.toggle() : 클래스가 존재하면 제거하고 false반환 존재하지않으면 추가하고 true반환\n",
    "\n",
    "  2. 일반 속성 조작\n",
    "    - Element.getArrtibute() : 해당 요소에 지정된 값을 반환\n",
    "    - Element.setArrtibute(name, value) : 지정된 요소의 속성 값을 설정\n",
    "    - Element.removeAttribute() : 요소에 지정된 이름을 가진 속성 제거\n",
    "\n",
    "## DOM 요소 조작 메서드\n",
    "  - document.createElement(tagName) : 작성한 tagName의 HTML요소를 생성하여 반환\n",
    "  -  Node.appendChild() : 한 Node를 특정 부모 Node의 자식 NodeList 중 마지막 자식으로 삽입, 추가된 Node 객체를 반환\n",
    "  - Node.removeChild() : DOM에서 자식 Node를 제거, 제거된 Node를 반환\n",
    "\n",
    "## style \n"
   ]
  }
 ],
 "metadata": {
  "language_info": {
   "name": "python"
  }
 },
 "nbformat": 4,
 "nbformat_minor": 2
}
