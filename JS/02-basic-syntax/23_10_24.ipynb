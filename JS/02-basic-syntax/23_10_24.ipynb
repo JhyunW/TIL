{
 "cells": [
  {
   "cell_type": "markdown",
   "metadata": {},
   "source": [
    "### 변수\n",
    "  1. let\n",
    "    - 블록 스코프를 갖는 지역 변수를 선언(중괄호 사이의 내용)\n",
    "    - 재할당 가능\n",
    "    - 재선언 불가능\n",
    "    - ES6에서 추가\n",
    "  2. const\n",
    "    - 재할당, 재선언 불가능\n",
    "  3. var\n",
    "\n",
    "### 데이터 타입\n",
    "  - 원시 자료형(Number, String, Boolean, undefined, null) :\n",
    "    특징으로는 변수에 값이 직접 저장되는 자료로 불변값, 값이 복사\n",
    "    1. Number : 숫자열\n",
    "    2. null : 변수의 값이 없음을 의조덕으로 표현할 때 사용(의도적)\n",
    "    3. undefined : 변수 선언 이후 직접 값을 할당하지 않으면 자동으로 할당(자동적)\n",
    "    4. boolean : 조건문 또는 반복문에서  boolean이 아닌 타입은 자동 형변환 규칙에 따라 true 또는 false로 변환됨\n",
    "\n",
    "\n",
    "  - 참조 자료형(object, Array, Function) :\n",
    "    특징으로는 객체의 주소가 저장되는 자료형으로 가변, 주소가 복사\n",
    "\n",
    "### 조건문\n",
    "  - 파이썬과 크게 다를게 없음\n",
    "\n",
    "### 반복문\n",
    "- 주의할점은 변수가 바뀌니까 let으로 변수명 선언\n",
    "- while : 참일동안 반복\n",
    "  while(i < 0) {\n",
    "    console.log(i)\n",
    "    i += 1\n",
    "  }\n",
    "\n",
    "- for : 특정한 조건이 거짓으로 판별될 때까지 반복 즉 트루일동안은 동작\n",
    "  for([초기문]; [조건문]; [증감문]){\n",
    "    행동 코드\n",
    "  }\n",
    "  \n",
    "- for in : 객체의 열거 가능한 속성에 대해 반복 속성값이란 인덱스 번호 같은 집합소의 번호가 출련된다고 생각하면 됨. 오브젝트에서만 씀\n",
    "  for (variable in object){\n",
    "    statement\n",
    "  }\n",
    "\n",
    "- for of : 반복 가능한 객체(배열, 문자열 등)에 대해 반복\n",
    "  for(variable of iterable) {\n",
    "    statement\n",
    "  }"
   ]
  }
 ],
 "metadata": {
  "language_info": {
   "name": "python"
  }
 },
 "nbformat": 4,
 "nbformat_minor": 2
}
