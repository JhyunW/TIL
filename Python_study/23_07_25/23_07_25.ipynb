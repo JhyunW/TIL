{
 "cells": [
  {
   "cell_type": "markdown",
   "metadata": {},
   "source": [
    "# 세트 (비 시퀀스 메서드)\n",
    "  - 고유한 항목들의 정렬되지 않은 컬렉션\n",
    "\n",
    "## 메서드\n",
    "  - s.add(x) : 세트 s에 항목x 를 추가. 이미 x가 있다면 변화 없음\n",
    "\n",
    "  - s.clear() : 세트 s의 모든 항목을 제거\n",
    "\n",
    "  - s.remov(x) : 세트 s에서 항목 x를 제거. 항목 x가 없을 경우 key error\n",
    "\n",
    "  - s.pop()세트 s에서 [랜덤]하게 항목을 반환하고, 해당 항목을 제거\n",
    "\n",
    "  - s.discard(x) : 세트 s에서 항목x 를 제거. remove와 달리 에러가 없음\n",
    "\n",
    "  - s.update(iterable) : 세트s에 다른 iterable 요소를 추가\n",
    "\n",
    "## 세트의 집합 메서드\n",
    "  - set1.difference(set2) : set1에는 있지만 set2에는 없는 항목으로 세트를 생성후 반환 (set1 - set2)\n",
    "\n",
    "  - set1.intersection(set2) : set1 과 set2 모두 들어있는 항목으로 세트를 생성 후 반환 (set1&set2)\n",
    "\n",
    "  - set1.issuset(set2) : set1의 항목이 모두 set2에 들어있으면 True를 반환 (set1 <= set2)\n",
    "\n",
    "  - set1.issuperset(set2) : set1가 set2의 항목을 모두 포함하면 True를 반환 (set1 >= set2)\n",
    "  \n",
    "  - set1.union(set2) : set1 또는 set2에 들어있는 항목으로 세트를 생성 후 반환 (set1 : set2)\n",
    "  "
   ]
  },
  {
   "cell_type": "markdown",
   "metadata": {},
   "source": [
    "# 딕셔너리\n",
    "  - 고유한 항목들의 정렬되지 않은 컬렉션\n",
    "\n",
    "## 메서드\n",
    "  - D.clear() : 딕셔너리의 키,값 쌍을 제거\n",
    "\n",
    "  - D.get(k[,default]) : 키k에 연결된 값을 반환(키가 없으면 None을 반환). 찾고자 하는 키가 없을 때 None 반환\n",
    "\n",
    "  - D.keys() : 딕셔너리 D의 키를 모은 객체를 반환\n",
    "\n",
    "  - D.pop(key[,default]) : 키를 제거하고 연결됐던 값을 반환 없으면 에러나 default 를 반환\n",
    "\n",
    "  - setdefault(key[,default]) : 키와 연결된 값을 반환, 키가 없다면 default와 연결한 키를 딕셔너리에 추가하고 default를 반환\n",
    "\n",
    "  - D.update([other]) : other가 제공하는 키/값 쌍으로 딕셔너리를 갱신 기존 키는 덮어씀"
   ]
  },
  {
   "cell_type": "code",
   "execution_count": 5,
   "metadata": {},
   "outputs": [
    {
     "name": "stdout",
     "output_type": "stream",
     "text": [
      "{'name': '가나다', 'age': 25}\n",
      "name\n",
      "age\n",
      "가나다\n",
      "25\n",
      "name 가나다\n",
      "age 25\n",
      "KOREA\n",
      "25\n"
     ]
    }
   ],
   "source": [
    "# 키만 뽑아내는 문구\n",
    "person = {\n",
    "    'name' : '가나다',\n",
    "    'age' : 25\n",
    "}\n",
    "print(person)\n",
    "for key in person.keys():\n",
    "    print(key)\n",
    "\n",
    "# 벨류만 뽑아내는 문구\n",
    "for value in person.values():\n",
    "    print(value)\n",
    "\n",
    "# 벨류와 키 둘다 뽑아보는 문구\n",
    "for key, value in person.items():\n",
    "    print(key, value)\n",
    "\n",
    "# pop 활용\n",
    "# print(person.pop('age'))\n",
    "# print(person.pop('country','country 키는 없어요.'))\n",
    "\n",
    "# setdefault 활용\n",
    "print(person.setdefault('country', 'KOREA')) # 없으므로 추가됨\n",
    "print(person.setdefault('age', 50)) # 있으므로 원래 값인 25출력"
   ]
  },
  {
   "cell_type": "code",
   "execution_count": 14,
   "metadata": {},
   "outputs": [
    {
     "name": "stdout",
     "output_type": "stream",
     "text": [
      "{'A': 3, 'B': 3, 'O': 3, 'AB': 3}\n",
      "{'A': 3, 'B': 3, 'O': 3, 'AB': 3}\n",
      "{'A': 3, 'B': 3, 'O': 3, 'AB': 3}\n"
     ]
    }
   ],
   "source": [
    "\n",
    "# [], .get(), default() 를 사용하여 구해보기\n",
    "\n",
    "# 혈액형 인원수 세기\n",
    "# 결과 => {'A' : 3, 'B' : 3, 'O' : 3, 'AB' : 3}\n",
    "blood_types = ['A','B','A','O','AB','AB','O','A','B','O','B','AB']\n",
    "# []\n",
    "new_dict = {}\n",
    "for blood_type in blood_types:\n",
    "    # 기존에 키가 이미 존재한다면\n",
    "    if blood_type in new_dict:\n",
    "        # 기존에 키의 값을 +1 증가\n",
    "        new_dict[blood_type] += 1\n",
    "    # 키가 존재하지 않는다면 (처음 설정되는 키)\n",
    "    else:\n",
    "        new_dict[blood_type] = 1\n",
    "print(new_dict)\n",
    "\n",
    "# .get()\n",
    "new_dict01 = {}\n",
    "for blood_type01 in blood_types:\n",
    "\n",
    "    new_dict01[blood_type01] = new_dict01.get(blood_type01, 0)+1 # 많이하는 실수로 1을 쓰는데 그러면 안됨. 왜? 물어보기\n",
    "print(new_dict01)\n",
    "\n",
    "# .setdefault()\n",
    "new_dict02 = {}\n",
    "for blood_type02 in blood_types:\n",
    "    new_dict02.setdefault(blood_type02, 0) + 1\n",
    "    new_dict02[blood_type02] += 1\n",
    "print(new_dict02)"
   ]
  },
  {
   "cell_type": "markdown",
   "metadata": {},
   "source": [
    "# 복사\n",
    "- 파이썬은 데이터에 분류에 따라 복사가 달라짐\n",
    "- \"변경 가능한 데이터 타입\" 과 \"변경 불가능한 데이터 타입\"을 다르게 다룸\n",
    "\n",
    "  1. 할당\n",
    "    - a = [1, 2]   copy_a = a 이렇게 할시 a또는 b를 바꾸면 copy도 같이 바뀜\n",
    "  \n",
    "  2. 얕은 복사\n",
    "    - a = [1, 2] b = a[:] 일때는 새로운 b라는 주소에 a를 슬라이싱한 것들을 새로 넣는것이므로 a를 바꿔도 b는 바뀌지 않음\n",
    "    - 또 다른 방법으로 b = a.copy() 가 있음\n",
    "    - 한계) 리스트 안의 리스트는 같은 주소를 사용하게 됨.\n",
    "\n",
    "  3. 깊은 복사\n",
    "    - 내부에 중첩된 모든 캑체까지 새로운 객체 주소를 참조하도록 함."
   ]
  },
  {
   "cell_type": "code",
   "execution_count": 19,
   "metadata": {},
   "outputs": [
    {
     "name": "stdout",
     "output_type": "stream",
     "text": [
      "[4, 2]\n",
      "[1, 2]\n",
      "[1, 2, [999, 2]] [1, 2, [999, 2]]\n",
      "[1, 2, [1, 2]] [1, 2, [999, 2]]\n"
     ]
    }
   ],
   "source": [
    "# 할당\n",
    "a = [1, 2]\n",
    "copy_a = a\n",
    "a[0] = 4\n",
    "print(copy_a)\n",
    "\n",
    "# 얕은 복사\n",
    "a01 = [1, 2]\n",
    "copy_a01 = a01.copy()\n",
    "a01[0] = 4\n",
    "print(copy_a01)\n",
    "\n",
    "# 얕은 복사의 한계 가장 첫번째의 주소는 새로 복사가 되지만 리스트안의 리스트는\n",
    "# 같은 주소를 보고 있음.\n",
    "a02 = [1, 2, [1, 2]]\n",
    "\n",
    "b02 = a02[:]\n",
    "b02[2][0] = 999\n",
    "print(a02,b02)\n",
    "\n",
    "# 위 문제의 해결방법 => 깊은 복사\n",
    "import copy\n",
    "\n",
    "original_list = [1,2, [1, 2]]\n",
    "deep_copied_list = copy.deepcopy(original_list)\n",
    "\n",
    "deep_copied_list[2][0] = 999\n",
    "\n",
    "print(original_list, deep_copied_list)"
   ]
  },
  {
   "cell_type": "code",
   "execution_count": null,
   "metadata": {},
   "outputs": [],
   "source": [
    "info = {'name' : '홍길동', 'age' : 3}\n",
    "result = info.get('name')\n",
    "print(result)\n",
    "\n",
    "result2 = info['name']\n",
    "print(result2)\n",
    "\n",
    "# 1. .get() = 메서드임 | 함수임\n",
    "# 2. 함수 반환할 값이 없으면 None 반환함"
   ]
  }
 ],
 "metadata": {
  "kernelspec": {
   "display_name": "Python 3",
   "language": "python",
   "name": "python3"
  },
  "language_info": {
   "codemirror_mode": {
    "name": "ipython",
    "version": 3
   },
   "file_extension": ".py",
   "mimetype": "text/x-python",
   "name": "python",
   "nbconvert_exporter": "python",
   "pygments_lexer": "ipython3",
   "version": "3.9.13"
  },
  "orig_nbformat": 4
 },
 "nbformat": 4,
 "nbformat_minor": 2
}
