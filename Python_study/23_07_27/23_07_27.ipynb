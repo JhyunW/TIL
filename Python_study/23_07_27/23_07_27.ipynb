{
 "cells": [
  {
   "cell_type": "markdown",
   "metadata": {},
   "source": [
    "# 상속\n",
    "- 기존 클래스의 속성과 메서드를 물려받아 새로운 하위 클래스를 생성하는 것\n",
    "\n",
    "  ### 상속이 필요한 이유\n",
    "  1. 코드 재사용\n",
    "  - 상속을 통해 기존 클래스의 속성과 메서드를 재사용할 수 있음\n",
    "  - 새로운 클래스를 작성할 때 기존 클래스의 기능을 그대로 활용할 수 있으며, 중복된 코드를 줄일 수 있음\n",
    "\n",
    "  2. 계층 구조\n",
    "  - 상속을 통해 클래스들 간의 계증 구조를 형성할 수 있음\n",
    "  - 부모 클래스와 자식 클래스 간의 관계를 표현하고, 더 구체적인 클래스를 만들 수 있음\n",
    "\n",
    "  3. 유지 보수의 용이성\n",
    "  - 상속을 통해 기존 클래스의 수정이 필요한 경우, 해당클래스만 수정하면 되므로 유지 보수가 용이해짐\n",
    "  - 코드의 일관성을 유지하고 수정이 필요한 범위를 최소화할 수 있음\n"
   ]
  },
  {
   "cell_type": "code",
   "execution_count": 5,
   "metadata": {},
   "outputs": [
    {
     "name": "stdout",
     "output_type": "stream",
     "text": [
      "하이, 박교수라고해\n",
      "하이, 김학생라고해\n"
     ]
    }
   ],
   "source": [
    "class person:\n",
    "    def __init__(self, name, age):\n",
    "        self.name = name\n",
    "        self.age = age\n",
    "    \n",
    "    def talk(self):\n",
    "        print(f'하이, {self.name}라고해')\n",
    "\n",
    "class professor(person):\n",
    "    def __init__(self, name, age, department):\n",
    "        # self.name = name\n",
    "        # self.age = age\n",
    "        super().__init__(name, age)\n",
    "        self.department = department\n",
    "\n",
    "class student(person):\n",
    "    def __init__(self, name, age, gpa):\n",
    "        # self.name = name\n",
    "        # self.age = age\n",
    "        super().__init__(name, age)\n",
    "        self.gpa = gpa\n",
    "\n",
    "p1 = professor('박교수', 49, '컴공')\n",
    "s1 = student('김학생', 20, 3.5)\n",
    "\n",
    "p1.talk()\n",
    "s1.talk()"
   ]
  },
  {
   "cell_type": "markdown",
   "metadata": {},
   "source": [
    "# 다중 상속\n",
    "- 두개 이상의 클래스를 상속 받는 경우\n",
    "- 상속받은 모든 클래스의 요소를 활용 가능함\n",
    "- 중복된 속성이나 메서드가 있는 경우 순서에 의해 결정됨\n",
    "  tip) 상속관련 함수와 메서드\n",
    "  - Method Resultion Order\n",
    "  - 해당 인스턴스의 클래스가 어떤 부모 클래스를 가지는지 확인하는 메서드\n",
    "  - 기존의 인스턴스 -> 클래스 순으로 이름 공간을 탐색하는 과정에서\n",
    "    상속 관계에 있으면 인스턴스 -> 자식 클래스 -> 부모 클래스로 확장"
   ]
  },
  {
   "cell_type": "code",
   "execution_count": 8,
   "metadata": {},
   "outputs": [
    {
     "name": "stdout",
     "output_type": "stream",
     "text": [
      "첫째가 응애\n",
      "첫째가 수영\n",
      "아빠가 걷기\n",
      "XY\n"
     ]
    }
   ],
   "source": [
    "class person:\n",
    "    def __init__(self, name):\n",
    "        self.name = name\n",
    "    \n",
    "    def talk(self):\n",
    "        print(f'하이, {self.name}라고해')\n",
    "\n",
    "\n",
    "class Mom(person):\n",
    "    gene = 'XX'\n",
    "    \n",
    "    def __init__(self, name):\n",
    "        super().__init__(name)\n",
    "\n",
    "    def swim(self):\n",
    "        return '엄마가 수영'\n",
    "\n",
    "\n",
    "class Dad(person):\n",
    "    gene = 'XY'\n",
    "\n",
    "    def __init__(self, name):\n",
    "        super().__init__(name)\n",
    "\n",
    "    def walk(self):\n",
    "        return \"아빠가 걷기\"\n",
    "    \n",
    "\n",
    "class FirstChild(Dad, Mom):\n",
    "\n",
    "    def __init__(self, name):\n",
    "        super().__init__(name)\n",
    "        \n",
    "    def swim(self):\n",
    "        return '첫째가 수영'\n",
    "    \n",
    "    def cry(self):\n",
    "        return '첫째가 응애'\n",
    "    \n",
    "\n",
    "baby1 = FirstChild('아기')\n",
    "print(baby1.cry())\n",
    "print(baby1.swim())\n",
    "print(baby1.walk())\n",
    "print(baby1.gene) # 겹칠시에 무엇을 먼저? 상속받는 순서"
   ]
  },
  {
   "cell_type": "markdown",
   "metadata": {},
   "source": [
    "# Errors & Exception 버그\n",
    "1. 디커깅\n",
    "  - 버그를 찾아내고 수정하는 과정\n",
    "  - print 함수 활용\n",
    "  - 개발 환경등에서 제공하는 기능 활용\n",
    "\n",
    "\n",
    "2. 에러\n",
    "  - 프로그램 실행중에 발생하는 예외 상홍\n",
    "  - 문법 에러 : Syntax Error\n",
    "  - 예외 : Exception\n",
    "\n",
    "3. 예외(내장 예외)\n",
    "  - ZeroDivisionError : 나누기 또는 모듈로 연산의 두 번째 인자가 0일때 발생\n",
    "  - NameError : 지역 또는 전역 이름을 찾을 수 없을 때 발생\n",
    "  - TypeError : 타입 불일치, 인자 누락, 인자 초과, 인자 불일치\n",
    "  - Value Error : 연산이나 함수에 문제가 없지만 부적절한 값을 인자로 받았고, 상황이 IndexError 처럼 더 구체적인 예외로 설명되지 않는 경우 발생\n",
    "  - IndexError : 시퀀스 인덱스가 범위를 벗어날 때 발생\n",
    "  - KeyError : 딕셔너리에 해당 키가 존재하지 않는 경우\n",
    "  - ModuleNotFoundError : 모듈을 찾을 수 없을 때 발생\n",
    "  - ImportError : 임포트 하려는 이름을 찾을 수 없을 때 발생\n",
    "  - keyboardInterrupt : 사용자가 Control-C  또는 Delete를 누를 때 발생\n",
    "  - IndentationError : 들여쓰기를 잘못했을때\n",
    "\n",
    "4. 예외 처리 try-except 구조\n",
    "  - try 블록 안에는 예외가 발생할 수 있는 코드를 작성\n",
    "  - except 블록 안에는 예외가 발생했을 때 처리할 코드를 작성\n",
    "  - 예외가 발생하면 프로그램 흐름은 try블록을 빠져나와 해당 예외에 대응하는 except블록으로 이동"
   ]
  },
  {
   "cell_type": "code",
   "execution_count": 9,
   "metadata": {},
   "outputs": [
    {
     "name": "stdout",
     "output_type": "stream",
     "text": [
      " 0으로 나눌 수 없습니다.\n"
     ]
    }
   ],
   "source": [
    "# try - except 구조\n",
    "try:\n",
    "    result = 10 / 0\n",
    "except ZeroDivisionError:\n",
    "    print(' 0으로 나눌 수 없습니다.')"
   ]
  },
  {
   "cell_type": "markdown",
   "metadata": {},
   "source": [
    "# EAFP 와 LBYL 의 차이\n",
    " - Easier to Ask for forgiveness than permission :예외초리를 중심으로 코드를 작성하는 접근 방식\n",
    " - Look Before You Leap : 값 검사를 중심으로 코드를 작성하는 접근 방식\n",
    "- 목록 :    EAFP                        LBYL\n",
    "    \"일단 실행하고 예외를 처리\"         \"실행하기 전에 조건을 검사\"\n",
    "예외 상황을 예측하기 어려운 경우에 유용   예외 상황을 미리 방지하고 싶을때\n",
    "\n",
    "          "
   ]
  }
 ],
 "metadata": {
  "kernelspec": {
   "display_name": "Python 3",
   "language": "python",
   "name": "python3"
  },
  "language_info": {
   "codemirror_mode": {
    "name": "ipython",
    "version": 3
   },
   "file_extension": ".py",
   "mimetype": "text/x-python",
   "name": "python",
   "nbconvert_exporter": "python",
   "pygments_lexer": "ipython3",
   "version": "3.9.13"
  },
  "orig_nbformat": 4
 },
 "nbformat": 4,
 "nbformat_minor": 2
}
