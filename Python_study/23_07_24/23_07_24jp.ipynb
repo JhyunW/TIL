{
 "cells": [
  {
   "cell_type": "markdown",
   "metadata": {},
   "source": [
    "# 자료구조\n",
    "  - 검퓨터 공학에서는 '자료구조' 라고 함\n",
    "  - 각 데이터의 효율적인 저장, 관리를 위한 구조를 나눠 놓은 것\n",
    "  - 문자열, 리스트 딕셔너리 등 각 데이터 구조의 메서드를 호출하여 다양한 기능 활용"
   ]
  },
  {
   "cell_type": "markdown",
   "metadata": {},
   "source": [
    "# 메서드\n",
    "  - 객체에 속한 함수, 객체의 상태를 조작하거나 동작을 수행\n",
    "  - 클래스 내부에 정의되는 함수, 파이썬에서 타입을 표현하는 방법이다. ex) str, dict\n",
    "  - 호출 방법 : 데이터 타입 객체.메서드() ex) 'hello'.capitalize()"
   ]
  },
  {
   "cell_type": "markdown",
   "metadata": {},
   "source": [
    "# 시권스 데이터 구조\n",
    "  - 여러개의 값들을 순서대로 나열하여 저장하는 자료형"
   ]
  },
  {
   "cell_type": "markdown",
   "metadata": {},
   "source": [
    "# 문자열 조회/ 탐색\n",
    "  - s.find(X) : x의 첫 번째 위치를 반환 없으면 -1 반환 왼쪽부터 찾음\n",
    "  - s.index(x) : x의 첫 번쨰 위치를 반환, 없으면 오류 발생\n",
    "  - s.isalpha() : 알파벳 문자 여부\n",
    "  - s.isupper() : 대문자 여부\n",
    "  - s.islower() : 소문자 여부\n",
    "  - s.istitle() : 타이틀 형식 여부 즉 앞글자가 대문자 그 이후의 문자가 소문자인지 확인하는 것"
   ]
  },
  {
   "cell_type": "code",
   "execution_count": 7,
   "metadata": {},
   "outputs": [
    {
     "name": "stdout",
     "output_type": "stream",
     "text": [
      "2\n",
      "True\n",
      "True\n",
      "False\n"
     ]
    }
   ],
   "source": [
    "ex = \"aBc\"\n",
    "ex1 = \"ABC\"\n",
    "\n",
    "print(ex.find('c'))\n",
    "print(ex.isalpha())\n",
    "print(ex1.isupper())\n",
    "print(ex.islower())"
   ]
  },
  {
   "cell_type": "markdown",
   "metadata": {},
   "source": [
    "# 문자열 조작 메서드\n",
    "  - 매서드는 이어서 사용 가능\n",
    "s.replace(old, new[.count]) : 바꿀 대상 글자를 새로운 글자로 바꿔서 반환\n",
    "s.strip([chars]) : 문자열의 시작과 끝에 있는 공백 혹은 지정한 문자를 제거\n",
    "s.split(sep=Nome, maxsplit=-1) : 지정한 문자를 구분자로 문자열을 분리하여 문자열의 리스트로 반환\n",
    "'separator.join(s) : iterable 요소들을 원래의 문자열로 구분자로 이용하여 하나의 문자로 연결\n",
    "s.capitalize() : 맨 앞에만 대문자로하고 나머진 소문자로\n",
    "s.title() : 공백기준으로 첫글자 대문자\n",
    "s.upper() : 다 대문자\n",
    "s.swapcase() : 대문자 소문자 반대로\n"
   ]
  },
  {
   "cell_type": "code",
   "execution_count": 15,
   "metadata": {},
   "outputs": [
    {
     "name": "stdout",
     "output_type": "stream",
     "text": [
      "Hello, Python!\n",
      ", world!\n",
      "['Hello', ' world!']\n",
      "Hello- world!\n"
     ]
    }
   ],
   "source": [
    "text = 'Hello, world!'\n",
    "new_text = text.replace('world', 'Python')\n",
    "print(new_text)\n",
    "\n",
    "new_text1 = text.strip('Hello')\n",
    "print(new_text1)\n",
    "\n",
    "words = text.split(',')\n",
    "print(words)\n",
    "\n",
    "text_words = '-'.join(words)\n",
    "print(text_words)"
   ]
  },
  {
   "cell_type": "markdown",
   "metadata": {},
   "source": [
    "# 리스트 값 추가 및 삭제 메서드\n",
    "  - L.append(x) : 리스트 마지막에 항목 x 추가\n",
    "  - L.extend(x) : 리스트에 다른 반복 가능한 객체의 모든 항목을 추가 즉, 리스트를 언팩킹 해서 추가\n",
    "  - L.insert(i, x) : 리스트의 지정한 인덱스 i 위치에 항목 x를 삽입\n",
    "  - L.remove(x) : 리스트에서 첫 번째로 일치하는 항목을 삭제\n",
    "  - L.pop(i) : 리스트에서 지정한 인덱스의 항목을 제거하고 반환 작성하지 않을 경우 마지막 항목을 제거\n",
    "  - L.clear() : 리스트의 모든 항목을 삭제\n",
    "\n",
    "# 리스트 탐색 및 정렬 메서드\n",
    "  - L.index(x, star, end) : 리스트에서 첫 번째로 일치하는 항목의 인덱스를 반환\n",
    "  - L.reverse() : 리스트를 역순을 변경(정렬이 아님)\n",
    "  - L.sort() : 리스트를 오름차순 정렬 / True 입력시 내림차순 / 반환이 없음 반환을 원하면 .sorted\n",
    "  - L.count(x) : 리스트에서 항목 x가 틍장하는 획수를 반환"
   ]
  },
  {
   "cell_type": "code",
   "execution_count": 1,
   "metadata": {},
   "outputs": [
    {
     "name": "stdout",
     "output_type": "stream",
     "text": [
      "[1, 2, 3, [4, 5, 6]]\n",
      "[1, 2, 3, [4, 5, 6]]\n"
     ]
    }
   ],
   "source": [
    "# append 와 extend\n",
    "number = [1, 2, 3]\n",
    "number2 = [4, 5, 6]\n",
    "number.append(number2)\n",
    "print(number)\n",
    "number_1 = [1, 2, 3]\n",
    "number_1.extend(number2)\n",
    "print(number)\n",
    "\n",
    "# "
   ]
  },
  {
   "cell_type": "markdown",
   "metadata": {},
   "source": [
    "# 문자열에 포함된 문자들의 유형을 판별하는 메서드\n",
    "  - isdecimal() : 문자열이 모두 숫자 문자로(0~9)로만 이루어져 있어야 Ture\n",
    "  - isdigit() : 위와 비슷하지만 유니코드 숫자도 인식\n",
    "  - isunmeric() : 위와 비슷하지만 몇가지 추가적인 유니코드 문자들을 인식"
   ]
  }
 ],
 "metadata": {
  "kernelspec": {
   "display_name": "Python 3",
   "language": "python",
   "name": "python3"
  },
  "language_info": {
   "codemirror_mode": {
    "name": "ipython",
    "version": 3
   },
   "file_extension": ".py",
   "mimetype": "text/x-python",
   "name": "python",
   "nbconvert_exporter": "python",
   "pygments_lexer": "ipython3",
   "version": "3.9.13"
  },
  "orig_nbformat": 4
 },
 "nbformat": 4,
 "nbformat_minor": 2
}
