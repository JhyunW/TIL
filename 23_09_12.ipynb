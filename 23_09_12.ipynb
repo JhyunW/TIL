{
 "cells": [
  {
   "cell_type": "markdown",
   "metadata": {},
   "source": [
    "## Framework\n",
    " - 웹 애플리케이션을 빠르게 개발할 수 있도록 도와주는 도구\n",
    " - 핵심개발에만 집중 할 수 있게되며, 개발 속도를 높일 수 있고, 유지보수와 확장에 용이해 소프트웨어의 품질을 높임"
   ]
  },
  {
   "cell_type": "markdown",
   "metadata": {},
   "source": [
    "## 웹 페이지를 보게 되는 과정\n",
    " 1. 웹 브라우저(클라이언트)에서 'google.com을 입력\n",
    " 2. 브라우저는 인터넷에 연결된 전세계 어딘 가에 있는 구글 컴퓨터 에게 'Google 홈페이지.html' 파일을 달라고 요청\n",
    " 3. 요청을 받은 컴퓨터는 구글 홈페이지.html파일을 찾아 응답\n",
    " 4. 전달받은 google 홈페이지.html 파일을 웹 브라우저가 사람이 볼 수 있도록 해석해주면서 사용자는 구글의 메인 페이지를 보게 됨"
   ]
  },
  {
   "cell_type": "markdown",
   "metadata": {},
   "source": [
    "## 가상환경\n",
    "1. python -m venv venv 를 깃에 입력하여 venv 라는 가상환경을 만들 수 있다.\n",
    "2. 하나의 터미널 창에서는 하나의 창만 켤 수 있다. 이동이 아니라 거기서 키는 개념 하나를 더 키고싶으면 깃부시를 하나더 키면 됨\n",
    "3. source(파일명) venv/Scripts/activate 으로 킬 수 있음\n",
    "4. deactivate 로 끌 수 있음\n",
    "5. 관련 패키지 목록을 보는 pip list\n",
    "6. pip freeze > requirments.txt 로 새로 사용된 패키지들 메모장으로 저장\n",
    "7. 다른곳에서 불러올 떄 pip install -r requirements.txt 로 패키지를 한번에 설치 가능\n",
    "\n"
   ]
  },
  {
   "cell_type": "markdown",
   "metadata": {},
   "source": [
    "## Django 프로젝트 생성 전 루틴\n",
    " 1. 가상환경 생성\n",
    " python -m venv venv\n",
    " 2. 가상환경 활성화\n",
    " source(파일명) venv/Scripts/activate\n",
    " 3. Django 설치\n",
    "pip install django\n",
    " 4. 의존성 파일 생성\n",
    " pip freeze > requirments.txt\n",
    " 5. 프로젝트 생성\n",
    " django-admin startproject firstpjt .\n",
    " 6. Django 서버 실행\n",
    " python manage.py runserver\n"
   ]
  },
  {
   "cell_type": "markdown",
   "metadata": {},
   "source": [
    "## django 프로젝트 생성 루틴 정리 + git\n",
    " 1. 가상환경 생성\n",
    " 2. 가상환경 활성화\n",
    " 3. Django 설치\n",
    " 4. 의존성 파일 생성\n",
    " 5. .gitignore 파일 생성\n",
    " 6. git 저장소 생성\n",
    " 7. Django 프로젝트 생성\n",
    "\n",
    "### Migrations\n",
    "- model 클래스의 변경사항(수정,삭제, 필드 생서으 등)을 DB에 최종 반영하는 방법\n",
    "- 과정 : 프로젝트 셋팅스에 등록 한 후python manage.py makemigrations 코드로 madel calls (초안) ---python manage.py migrate 코드(makemigrations)---> vs 코드로 migration파일인 최종설계도 생성--(migrate)--> db.qulite3\n",
    "- 모델 클래스에 변경사항이 생겼다면, 반드시 새로운 설계도를 생성하고, 이를 DB에 반영해야한다. model class 변경 -> makemigrations -> migrate"
   ]
  },
  {
   "cell_type": "markdown",
   "metadata": {},
   "source": [
    "## 앱 사용 과정\n",
    " 1. 앱 생성\n",
    " python manage.py startapp articles\n",
    " 2. 앱 등록 프로젝트의 settig에 INSTALLED_APPS 리스트에 추가"
   ]
  },
  {
   "cell_type": "markdown",
   "metadata": {},
   "source": [
    "## 디자인 패턴 : 소프트웨어 설계에서 발생하는 문제를 해결하기 위한 일반적인 해결책\n",
    " 1. MVC 디자인 패턴 : 애플리케이션을 구조화하는 대표적인 패턴으로\n",
    " Model, View, Controller\n",
    " 2. MTV 디자인 패턴 : Django 에서 애플리케이션을 구조화 하는 패턴(기존 MVC 패턴과 동일하나 명칭을 다르게 정의한 것)\n",
    " Model, Template, View"
   ]
  },
  {
   "cell_type": "markdown",
   "metadata": {},
   "source": [
    "## 프로젝트 구조\n",
    " - setting.py : 프로젝트의 모든 설정을 관리 ㅇ\n",
    " - urls.py : URL과 이에 해당하는 적절한 views를 연결 ㅇ\n",
    " - __init__.py : 해당 폴더를 패키지로 인식하도록 설정\n",
    " - asgi.py : 비동기식 웹 서버와 연결 관련 설정\n",
    " - wsgi.py : 웹 서버와의 연결 관련 설정\n",
    " - manage.py : Django 프로젝트와 다양한 방법으로 상호작용 하는 커맨드라인 유틸리티"
   ]
  },
  {
   "cell_type": "markdown",
   "metadata": {},
   "source": [
    "## 앱 구조\n",
    "- admin.py : 관리자용 페이지 설정 ㅇ\n",
    "- models.py : DB와 관련된 Model을 정의, MTV 패턴의 M ㅇ\n",
    "- views.py : HTTP 요청을 처리하고 해당 요청에 대한 응답을 반환 \n",
    "(url, mode, template과 연계) MTV 패턴의 V ㅇ\n",
    "- apps.py : 앱의 정보가 작성된 곳\n",
    "- test.py : 프로젝트 테스트 코드를 작성하는 곳"
   ]
  }
 ],
 "metadata": {
  "language_info": {
   "name": "python"
  },
  "orig_nbformat": 4
 },
 "nbformat": 4,
 "nbformat_minor": 2
}
