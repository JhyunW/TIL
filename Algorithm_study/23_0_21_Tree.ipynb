{
 "cells": [
  {
   "cell_type": "markdown",
   "metadata": {},
   "source": [
    "# 트리\n",
    "  - 한 개 이상의 노드로 이루어진 유한 집합\n",
    "  - 노드 중 최상위 노드를 루트하 한다\n",
    "  - 형제노드 : 같은 부모 노드의 자식들\n",
    "  - 조상노드 : 간선을 따라 루트 노드까지 이르는 경로에 있는 모든 노드\n",
    "  - 서브 트리 : 부모 노드와 연결된 간선을 끊었을 떄 생성되는 트리\n",
    "  - 자손 노드 : 서브 트리에 있는 하위 레벨의 노드들"
   ]
  },
  {
   "cell_type": "markdown",
   "metadata": {},
   "source": [
    "# 이진트리\n",
    "  - 모든 노드들이 2개의 서브트리를 갖는 특별한 형태\n",
    "  - 최대 2개까지\n",
    "  - 레벨 i에서의 노드의 최대 개수는 2i개\n",
    "  - 높이가 h인 트리가 가질 수 있는 노드의 최소 개수는 (h+1)개 최대는 (2**h+1 - 1개)\n",
    "  - 포화 이진트리는 모든 레벨에 노드가 포화상태로 차 있는 이진트리. 루트가 무조건 1번\n",
    "  - 완전 이진트리 1번부터n번까지 빈자리가 없는 이진트리"
   ]
  },
  {
   "cell_type": "markdown",
   "metadata": {},
   "source": [
    "# 이진트리 - 순회\n",
    "  - 각 노드를 중복되지 않게 전부 방문하는것을 말하는데 트리는 비 선형 구조이기 때문에 선형구조에서와 같이 선후 연결 관계를 알 수가 없음\n",
    "  - 고로 특별한 방법이 필요하다\n",
    "  - 트리의 노드들을 체계적으로 방문하는 것\n",
    "\n",
    "## 3가지의 기본적인 순회방법\n",
    "  - 전위순회 VLR : 부모노드 방문 후, 자식노드를 좌,우 순서로 방문한다\n",
    "  - 중위순회 LVR : 왼쪽 자식노드, 부모노드, 오른쪽 자식노드 순으로 방문한다.\n",
    "  - 후위순회 LRV : 자식노드를 좌우 순서로 방문한 후, 부모노드로 방문한다."
   ]
  },
  {
   "cell_type": "code",
   "execution_count": null,
   "metadata": {},
   "outputs": [],
   "source": [
    "def preorder(n):\n",
    "    if n:\n",
    "        print(n)\n",
    "        preorder(ch1(n))\n",
    "        preorder(ch2(n))\n",
    "\n",
    "V = int(input())\n",
    "E = V - 1\n",
    "arr = list(map(int, input().split()))\n",
    "# 부모를 인덱스로 자식을 저장\n",
    "\n",
    "ch1 = [0] * (V + 1)\n",
    "ch2 = [0] * (V + 1)\n",
    "for i in range(E):\n",
    "    p, c = arr[i*2], arr[i * 2 + 1]\n",
    "    if ch1[p] == 0:\n",
    "        ch1[p] = c\n",
    "    else: ch2[p] = c\n",
    "    \n",
    "    "
   ]
  }
 ],
 "metadata": {
  "language_info": {
   "name": "python"
  },
  "orig_nbformat": 4
 },
 "nbformat": 4,
 "nbformat_minor": 2
}
