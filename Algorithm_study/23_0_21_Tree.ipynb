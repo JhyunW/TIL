{
 "cells": [
  {
   "cell_type": "markdown",
   "metadata": {},
   "source": [
    "# 트리\n",
    "  - 한 개 이상의 노드로 이루어진 유한 집합\n",
    "  - 노드 중 최상위 노드를 루트하 한다\n",
    "  - 형제노드 : 같은 부모 노드의 자식들\n",
    "  - 조상노드 : 간선을 따라 루트 노드까지 이르는 경로에 있는 모든 노드\n",
    "  - 서브 트리 : 부모 노드와 연결된 간선을 끊었을 떄 생성되는 트리\n",
    "  - 자손 노드 : 서브 트리에 있는 하위 레벨의 노드들"
   ]
  },
  {
   "cell_type": "markdown",
   "metadata": {},
   "source": [
    "# 이진트리\n",
    "  - 모든 노드들이 2개의 서브트리를 갖는 특별한 형태\n",
    "  - 최대 2개까지\n",
    "  - 레벨 i에서의 노드의 최대 개수는 2i개\n",
    "  - 높이가 h인 트리가 가질 수 있는 노드의 최소 개수는 (h+1)개 최대는 (2**h+1 - 1개)\n",
    "  - 포화 이진트리는 모든 레벨에 노드가 포화상태로 차 있는 이진트리. 루트가 무조건 1번\n",
    "  - 완전 이진트리 1번부터n번까지 빈자리가 없는 이진트리"
   ]
  },
  {
   "cell_type": "markdown",
   "metadata": {},
   "source": [
    "# 이진트리 - 순회\n",
    "  - 각 노드를 중복되지 않게 전부 방문하는것을 말하는데 트리는 비 선형 구조이기 때문에 선형구조에서와 같이 선후 연결 관계를 알 수가 없음\n",
    "  - 고로 특별한 방법이 필요하다\n",
    "  - 트리의 노드들을 체계적으로 방문하는 것\n",
    "\n",
    "## 3가지의 기본적인 순회방법\n",
    "  - 전위순회 VLR : 부모노드 방문 후, 자식노드를 좌,우 순서로 방문한다\n",
    "  - 중위순회 LVR : 왼쪽 자식노드, 부모노드, 오른쪽 자식노드 순으로 방문한다.\n",
    "  - 후위순회 LRV : 자식노드를 좌우 순서로 방문한 후, 부모노드로 방문한다."
   ]
  },
  {
   "cell_type": "code",
   "execution_count": null,
   "metadata": {},
   "outputs": [],
   "source": [
    "def preorder(n):\n",
    "    if n:\n",
    "        print(n)\n",
    "        preorder(ch1(n))\n",
    "        preorder(ch2(n))\n",
    "\n",
    "V = int(input())\n",
    "E = V - 1\n",
    "arr = list(map(int, input().split()))\n",
    "# 부모를 인덱스로 자식을 저장\n",
    "\n",
    "ch1 = [0] * (V + 1)\n",
    "ch2 = [0] * (V + 1)\n",
    "for i in range(E):\n",
    "    p, c = arr[i*2], arr[i * 2 + 1]\n",
    "    if ch1[p] == 0:\n",
    "        ch1[p] = c\n",
    "    else: ch2[p] = c\n",
    "    \n",
    "    "
   ]
  },
  {
   "cell_type": "markdown",
   "metadata": {},
   "source": [
    "# 이진 수식틔\n",
    "  - 수식을 표현하는 이진트리\n",
    "\n",
    "# 이진 탐색 트리\n",
    "  - 탐색작업을 효율적으로 하기 위한 자료구조\n",
    "  - 모든 원소는 서로 다른 유일한 키를 갖는다\n",
    "  - key왼 < key루트 < key오\n",
    "  - 왼쪽 서브트리와 오른쪽 서브트리도 이진 탐색 트리다\n",
    "  - 중위 순회하면 오름차순으로 정렬된 값을 얻을 수 있다.\n",
    "\n",
    "## 성능\n",
    "  - 탐색, 삽입, 삭제 시간은 트리의 높이만큼 걸림\n",
    "  - "
   ]
  },
  {
   "cell_type": "markdown",
   "metadata": {},
   "source": [
    "# 힙\n",
    "  - 완전 이진 트리에 있는 노드 중에서 키값이 가장 큰 노드나 키값이 가장 작은 노드를 찾기 위해 만든 자료구조\n",
    "\n",
    "### 최대 힙\n",
    "  - 키값이 가장 큰 노드를 찾기 위한 완전 이진 트리\n",
    "  - 부모노드의 키값 > 자식노드의 키값\n",
    "  - 루트노드 : 키값이 가장 큰 노드\n",
    "\n",
    "### 최소 힙\n",
    "  - 키값이 가장 작은 노드를 찾기 위한 완전 이진 트리\n",
    "  - 부모노드의 키값 < 자식 노드의 키값\n",
    "  - 루트노드 : 키값이 가장 작은 노드"
   ]
  },
  {
   "cell_type": "code",
   "execution_count": null,
   "metadata": {},
   "outputs": [],
   "source": [
    "# SW Expert\n",
    "# 이진 힙\n",
    "\n",
    "# last변수지정, N+1개 배열 생성, "
   ]
  },
  {
   "cell_type": "code",
   "execution_count": null,
   "metadata": {},
   "outputs": [],
   "source": [
    "class TreeNode:\n",
    "    def __init__(self, value):\n",
    "        self.value = value\n",
    "        self.left = None\n",
    "        self.right = None\n",
    "def insert(root, value):\n",
    "    if root is None:\n",
    "        return TreeNode(value)\n",
    "    \n",
    "    if value < root.value:  # 벨류가 루트보다 작으면\n",
    "        root.left = insert(root.left, value)\n",
    "        \n",
    "    else:  # 밸류가 루트보다 크면\n",
    "        root.right = insert(root.right, value)\n",
    "        \n",
    "    return root\n",
    "\n",
    "# 중위 순회\n",
    "def inorder(node):\n",
    "    if node:\n",
    "        inorder(node.left)\n",
    "        print(node.value)\n",
    "\n",
    "# 정렬되지 않은 배열\n",
    "arr = [13, 2, 8, 7, 9, 17, 6, 1]\n",
    "\n",
    "root = TreeNode(arr[0])\n",
    "\n",
    "for value in range(1, len(arr)):\n",
    "    insert(root, value)\n",
    "print(root.value)\n",
    "print(root.left.value)"
   ]
  },
  {
   "cell_type": "code",
   "execution_count": 2,
   "metadata": {},
   "outputs": [
    {
     "name": "stdout",
     "output_type": "stream",
     "text": [
      "[0, 0, 0, 0, 0, 0, 0]\n",
      "[0, 3, 0, 0, 0, 0, 0]\n",
      "[0, 3, 0, 0, 0, 0, 0]\n",
      "[0, 1, 0, 0, 0, 0, 0]\n",
      "[0, 7, 0, 0, 0, 0, 0]\n",
      "[0, 2, 0, 0, 0, 0, 0]\n",
      "[0, 9, 0, 0, 0, 0, 0]\n"
     ]
    }
   ],
   "source": [
    "N = 6\n",
    "arr = [6, 3, 2, 7, 9, 1]\n",
    "\n",
    "tree = [0] * (N+1)\n",
    "last = 1\n",
    "\n",
    "\n",
    "for i in range(N):\n",
    "    if tree[i] == 0:\n",
    "        tree[last] = arr[i]\n",
    "else:\n",
    "    last += 1\n",
    "    tree[last] = arr[i]\n",
    "    child = last  # 자식의 위치\n",
    "    # 완전 이지느리에서 부모의 위치는 자식의 위치를 2로 나눈 몫\n",
    "    parent = child // 2\n",
    "    \n",
    "    \n",
    "    # 만약에, 부모가 가진 값이 자식이 가진 값보다 크면\n",
    "    # 최소합을 만족할 수 없으니 두개 값을 swap해야한다.\n",
    "    while parent >= 1 and tree[parent] > tree[child]:\n",
    "        # 부모, 자식 값 교환\n",
    "        tree[parent], tree[child] = tree[child], tree[parent]\n",
    "        # 자식의 위치가 swap한 부모의 위치가 되도록 설정\n",
    "        child = parent\n",
    "        # 부모의 값은?\n",
    "        parent = child // 2\n",
    "    \n",
    "    "
   ]
  },
  {
   "cell_type": "code",
   "execution_count": null,
   "metadata": {},
   "outputs": [],
   "source": [
    "import heapq\n",
    "arr = [6, 3, 2, 7, 9, 1]\n",
    "\n",
    "heapq.heapify(arr)\n",
    "print(arr)\n",
    "heapq.heappush(arr, 5)\n",
    "print(arr)\n"
   ]
  },
  {
   "cell_type": "code",
   "execution_count": null,
   "metadata": {},
   "outputs": [],
   "source": [
    "# SW Expert\n",
    "# 노드의 합\n"
   ]
  }
 ],
 "metadata": {
  "kernelspec": {
   "display_name": "Python 3",
   "language": "python",
   "name": "python3"
  },
  "language_info": {
   "codemirror_mode": {
    "name": "ipython",
    "version": 3
   },
   "file_extension": ".py",
   "mimetype": "text/x-python",
   "name": "python",
   "nbconvert_exporter": "python",
   "pygments_lexer": "ipython3",
   "version": "3.9.13"
  },
  "orig_nbformat": 4
 },
 "nbformat": 4,
 "nbformat_minor": 2
}
