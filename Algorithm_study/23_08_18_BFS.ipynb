{
 "cells": [
  {
   "cell_type": "markdown",
   "metadata": {},
   "source": [
    "# BFS\n",
    "  - 너비 우선 탐색방법을 말함."
   ]
  },
  {
   "cell_type": "code",
   "execution_count": 21,
   "metadata": {},
   "outputs": [],
   "source": [
    "# BFS 입력 파라미터\n",
    "\n",
    "def BFS(G, v):  # 그래프 G, 탐색 시작점 v\n",
    "    visited = [0] * (n+1)       # n: 정점의 개수\n",
    "    queue = []                  # 큐 생성\n",
    "    queue.append(v)             # 시작점 v를 큐에 삽입\n",
    "    while queue :               # 큐가 비어있지 않은경우\n",
    "        t = queue.pop(0)        # 큐의 첫번째 원소 반환\n",
    "        if not visited[t]:      # 방문기록이 없다면\n",
    "            visited[t] = True   # 방문한것으로 표기 후\n",
    "            visit(t)            # 정점 t에서 할 일\n",
    "            for i in G[t] :     # t와 연결된 모든 정점에 대해\n",
    "                if not visited[i]:  #방문되지 않은 곳이라면\n",
    "                    queue.append(i)  # 큐에 넣기"
   ]
  },
  {
   "cell_type": "code",
   "execution_count": 37,
   "metadata": {},
   "outputs": [
    {
     "name": "stdout",
     "output_type": "stream",
     "text": [
      "[1234, 1, 2, 3, 4, 5, 3, 2, 4, 1]\n"
     ]
    }
   ],
   "source": [
    "arr = [1234]\n",
    "a = [3, 4, 5, 6, 7]\n",
    "arr.extend(list(map(int, input().split())))\n",
    "print(arr)"
   ]
  }
 ],
 "metadata": {
  "kernelspec": {
   "display_name": "Python 3",
   "language": "python",
   "name": "python3"
  },
  "language_info": {
   "codemirror_mode": {
    "name": "ipython",
    "version": 3
   },
   "file_extension": ".py",
   "mimetype": "text/x-python",
   "name": "python",
   "nbconvert_exporter": "python",
   "pygments_lexer": "ipython3",
   "version": "3.9.13"
  },
  "orig_nbformat": 4
 },
 "nbformat": 4,
 "nbformat_minor": 2
}
