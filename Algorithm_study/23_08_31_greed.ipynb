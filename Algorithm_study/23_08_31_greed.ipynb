{
 "cells": [
  {
   "cell_type": "markdown",
   "metadata": {},
   "source": [
    "# N개에서 R개를 고르는 조합 1"
   ]
  },
  {
   "cell_type": "code",
   "execution_count": null,
   "metadata": {},
   "outputs": [],
   "source": [
    "def nCr(n,r,s):  # n 개에서 r개를 고르는 조합, s 선택할 수 있는 구간의 시작\n",
    "    if r == 0:\n",
    "        print(*comb)\n",
    "    else:\n",
    "        for i in range(s, n-r+1):\n",
    "            comb[r-1] = A[i]\n",
    "            nCr(n, r-1, i+1)\n",
    "\n",
    "A = [1, 2, 3, 4, 5]\n",
    "N = len(A)\n",
    "R = 3\n",
    "comb = [0] * R\n",
    "nCr(N, R, 0)"
   ]
  },
  {
   "cell_type": "markdown",
   "metadata": {},
   "source": [
    "# N개에서 R개를 고르는 조합 2"
   ]
  },
  {
   "cell_type": "code",
   "execution_count": null,
   "metadata": {},
   "outputs": [],
   "source": [
    "def ncr(n,r):\n",
    "    if r == 0:\n",
    "        print(tr)\n",
    "    elif n < r:  # 남은 원소보다 많은 원소를 선택해야 하는 경우\n",
    "        return  # 불가\n",
    "    else:\n",
    "        tr[r-1] = a[n-1]\n",
    "        ncr(n-1, r-1)\n",
    "        ncr(n-1, r)\n",
    "\n",
    "\n",
    "N = 5\n",
    "R = 3\n",
    "a = [1, 2 3, 4, 5]\n",
    "tr = [0] * R\n",
    "ncr(N, R)"
   ]
  },
  {
   "cell_type": "markdown",
   "metadata": {},
   "source": [
    "# 부분집합"
   ]
  },
  {
   "cell_type": "code",
   "execution_count": 2,
   "metadata": {},
   "outputs": [
    {
     "name": "stdout",
     "output_type": "stream",
     "text": [
      "-1 3 -9 6 7 -6 \n",
      "-1 3 -9 6 -6 5 4 -2 \n",
      "-1 3 -9 6 1 \n",
      "-1 3 -9 7 -6 1 5 \n",
      "-1 3 -9 7 \n",
      "-1 3 -9 5 4 -2 \n",
      "-1 3 6 -6 -2 \n",
      "-1 3 -6 1 5 -2 \n",
      "-1 3 -6 4 \n",
      "-1 3 -2 \n",
      "-1 -9 6 7 -6 1 4 -2 \n",
      "-1 -9 6 7 -6 5 -2 \n",
      "-1 -9 6 -6 1 5 4 \n",
      "-1 -9 6 1 5 -2 \n",
      "-1 -9 6 4 \n",
      "-1 -9 7 -6 5 4 \n",
      "-1 -9 7 1 4 -2 \n",
      "-1 -9 7 5 -2 \n",
      "-1 -9 1 5 4 \n",
      "-1 6 -6 1 \n",
      "-1 7 -6 \n",
      "-1 -6 5 4 -2 \n",
      "-1 1 \n",
      "3 -9 6 7 -6 1 -2 \n",
      "3 -9 6 -6 1 5 \n",
      "3 -9 6 \n",
      "3 -9 7 -6 1 4 \n",
      "3 -9 7 -6 5 \n",
      "3 -9 7 1 -2 \n",
      "3 -9 1 5 \n",
      "3 -6 1 4 -2 \n",
      "3 -6 5 -2 \n",
      "-9 6 7 -6 4 -2 \n",
      "-9 6 -6 5 4 \n",
      "-9 6 1 4 -2 \n",
      "-9 6 5 -2 \n",
      "-9 7 -6 1 5 4 -2 \n",
      "-9 7 4 -2 \n",
      "-9 5 4 \n",
      "6 -6 \n",
      "7 -6 1 -2 \n",
      "-6 1 5 \n",
      "\n"
     ]
    }
   ],
   "source": [
    "def subset(i, N):  # i번 원소를 결정할거고 전체는 N개의 원소가 있음\n",
    "    if i == N:\n",
    "        s = 0\n",
    "        for j in range(N):\n",
    "            if bit[j]:\n",
    "                s += arr[j]\n",
    "        if s == 0:\n",
    "            for j in range(N):\n",
    "                if bit[j]:\n",
    "                    print(arr[j], end = ' ')\n",
    "            print()\n",
    "    else:\n",
    "        bit[i] = 1\n",
    "        subset(i+1, N)\n",
    "        bit[i] = 0\n",
    "        subset(i+1, N)\n",
    "\n",
    "\n",
    "\n",
    "arr = [-1, 3, -9, 6, 7, -6, 1, 5, 4, -2]\n",
    "N = len(arr)\n",
    "bit = [0] * N\n",
    "subset(0, N)"
   ]
  },
  {
   "cell_type": "code",
   "execution_count": null,
   "metadata": {},
   "outputs": [],
   "source": [
    "def subset(i, N, s):  # i번 원소를 결정할거고 전체는 N개의 원소가 있음\n",
    "    if i == N:\n",
    "        s = 0\n",
    "        for j in range(N):\n",
    "            if bit[j]:\n",
    "                s += arr[j]\n",
    "        if s == 0:\n",
    "            for j in range(N):\n",
    "                if bit[j]:\n",
    "                    print(arr[j], end = ' ')\n",
    "            print()\n",
    "    else:\n",
    "        subset(i+1, N, s + arr[i])\n",
    "        subset(i+1, N, s)\n",
    "        return\n",
    "\n",
    "\n",
    "\n",
    "arr = [-1, 3, -9, 6, 7, -6, 1, 5, 4, -2]\n",
    "N = len(arr)\n",
    "bit = [0] * N``\n",
    "subset(0, N)"
   ]
  },
  {
   "cell_type": "markdown",
   "metadata": {},
   "source": [
    "# 회의실 배정하기\n",
    "    - 금요일에 다수의 회의를 해야하는데 회의실은 하나\n",
    "    - 시작과 종료시간이 있으며 회의시간이 겹치는건 같이 열릴수 없음\n",
    "    - 가능한 많은 회의가 열릴려면 배정을 어떻게 해야 할까\n",
    "    - 회의 수와 시작과 종료시간 주어짐\n",
    "\n",
    "### 순서\n",
    "    - 종료 시간 순으로 활동들을 정렬\n",
    "    - S0,n+1 은 a의 종료시간부터 an+1의 시작시간 사이에 포함된 활동들\n",
    "\n",
    "    - 정리하자면\n",
    "    1. 종료 시간이 가장 빠른 활동 am을 선택한다\n",
    "    2. sim은 공집합이므로, am을 선택하면 공집합이 아닌 하위 문제 smi가 남는다\n",
    "    3. 1, 2 과정을 반복\n",
    "\n",
    "    - 가장 빨리 끝나는걸 선택 후 앞선 활동이 끝난 이후인지 확인 \n",
    "    - 빨리 끝나는 순으로 나열, 시작시간이 앞선 것의 종료시간과 겹치지 않는지 확인   "
   ]
  },
  {
   "cell_type": "code",
   "execution_count": 9,
   "metadata": {},
   "outputs": [
    {
     "name": "stdout",
     "output_type": "stream",
     "text": [
      "[[0, 0], [1, 4], [3, 5], [1, 6], [5, 7], [3, 8], [5, 9], [6, 10], [8, 11], [2, 13], [12, 14]]\n",
      "[1, 4, 8, 10]\n"
     ]
    }
   ],
   "source": [
    "N = 10  # 10개의 회의\n",
    "a = [1, 4, 1, 6, 6, 10, 5, 7, 3, 8, 5, 9, 3, 5, 8, 11, 2, 13, 12, 14]  # 회의 시작 시간과 종료시간\n",
    "\n",
    "meet = []\n",
    "for i in range(N):\n",
    "    meet.append([a[i * 2], a[i * 2 + 1]])  # 시작과 종료시간 새로대입\n",
    "meet.sort(key = lambda x:x[1])  # 람다x는 한 덩어리를 뗴어낸것 중의 1번째 인덱스\n",
    "# 즉 [[1, 4], [2, 5], [6, 7]] 식에서 [1,4] 만 떼오고 그중 [1]번 인덱스를 불러 오는것\n",
    "meet = [[0, 0]] + meet  # 비어있는 첫활동\n",
    "print(meet)\n",
    "S = []\n",
    "j = 0\n",
    "for i in range(1, N+1):\n",
    "    if meet[i][0] >= meet[j][1]:\n",
    "        S.append(i)\n",
    "        j = i\n",
    "print(S)\n"
   ]
  },
  {
   "cell_type": "code",
   "execution_count": null,
   "metadata": {},
   "outputs": [],
   "source": [
    "import itertools\n",
    "\n",
    "# 반복에 대한 이해\n",
    "# 완전 검색 : Brute Force\n",
    "# 재귀 함수에 대한 이해\n",
    "num = [1, 2, 3]\n",
    "# 각 요소의 사용여부\n",
    "visited = [0] * len(num)"
   ]
  },
  {
   "cell_type": "code",
   "execution_count": null,
   "metadata": {},
   "outputs": [],
   "source": [
    "# baby진 게임\n"
   ]
  }
 ],
 "metadata": {
  "kernelspec": {
   "display_name": "Python 3",
   "language": "python",
   "name": "python3"
  },
  "language_info": {
   "codemirror_mode": {
    "name": "ipython",
    "version": 3
   },
   "file_extension": ".py",
   "mimetype": "text/x-python",
   "name": "python",
   "nbconvert_exporter": "python",
   "pygments_lexer": "ipython3",
   "version": "3.9.13"
  },
  "orig_nbformat": 4
 },
 "nbformat": 4,
 "nbformat_minor": 2
}
