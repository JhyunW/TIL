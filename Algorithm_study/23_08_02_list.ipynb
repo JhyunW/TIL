{
 "cells": [
  {
   "cell_type": "markdown",
   "metadata": {},
   "source": [
    "# 2차원 배열"
   ]
  },
  {
   "cell_type": "code",
   "execution_count": null,
   "metadata": {},
   "outputs": [],
   "source": [
    "# 이 식은 열 우선 순회 즉 아래로 순회\n",
    "\n",
    "# i행의 좌표\n",
    "# j열의 좌표\n",
    "\n",
    "for j in range(m) :\n",
    "    for i in range(n):\n",
    "        f(Array[i][j]) # 연산수행\n",
    "\n",
    "# 이 식은 지그재그로 순회\n",
    "for i in range(n):\n",
    "    for j in range(m):\n",
    "        f(Array[i][j + (m-1-2*j) * (i % 2)]) # 1 % 2를 사용해 그 옆의 식을 홀수번엔 죽이고 짝수번엔 살림\n",
    "        \n",
    "#(0,0) (0,1) (0,2) (0,3) 다음줄 (1,3) (1,2) (1,1) (1,0) 다음줄 (3,0) (0,1)...\n",
    "\n"
   ]
  },
  {
   "cell_type": "code",
   "execution_count": 2,
   "metadata": {},
   "outputs": [
    {
     "name": "stdout",
     "output_type": "stream",
     "text": [
      "0\n",
      "4\n",
      "1\n",
      "5\n",
      "2\n",
      "6\n",
      "3\n",
      "7\n"
     ]
    }
   ],
   "source": [
    "# 위에서 아래로 실습\n",
    "n = 2\n",
    "m = 4\n",
    "arr = [[0, 1, 2, 3], [4, 5, 6, 7]]\n",
    "for i in range(m):\n",
    "    for j in range(n):\n",
    "        print(arr[j][i])"
   ]
  },
  {
   "cell_type": "code",
   "execution_count": 3,
   "metadata": {},
   "outputs": [
    {
     "name": "stdout",
     "output_type": "stream",
     "text": [
      "[[1, 0], [0, 0]]\n",
      "[[1, 0], [1, 0]]\n"
     ]
    }
   ],
   "source": [
    "# 조심해야 할 실수\n",
    "n = 2\n",
    "m = 2\n",
    "# arr 과 arr2의 차이\n",
    "arr = [[0] * m for _ in range(n)]\n",
    "arr2 = [[0] * m] * n\n",
    "arr[0][0] = 1 \n",
    "arr2[0][0] = 1\n",
    "\n",
    "print(arr)\n",
    "print(arr2)"
   ]
  },
  {
   "cell_type": "code",
   "execution_count": 4,
   "metadata": {},
   "outputs": [
    {
     "name": "stdout",
     "output_type": "stream",
     "text": [
      "6\n",
      "22\n"
     ]
    }
   ],
   "source": [
    "n = 2\n",
    "m = 4\n",
    "arr = [[0, 1, 2, 3], [4, 5, 6, 7]]\n",
    "\n",
    "max_v = 0\n",
    "for i in range(n):\n",
    "    row_total = 0\n",
    "    \n",
    "    for j in range(m):\n",
    "        row_total += arr[i][j]\n",
    "    \n",
    "    print(row_total)"
   ]
  },
  {
   "cell_type": "code",
   "execution_count": null,
   "metadata": {},
   "outputs": [],
   "source": [
    "# 2차 배열 탐색 중앙기준 왼오위 불러오는법\n",
    "\n",
    "di = [0, 1, 0, -1]\n",
    "dj = [1, 0, -1, 0]\n",
    "\n",
    "for i in "
   ]
  },
  {
   "cell_type": "code",
   "execution_count": null,
   "metadata": {},
   "outputs": [],
   "source": [
    "di = [0, 1, 0, -1]\n",
    "dj = [1, 0, -1, 0]\n",
    "\n",
    "N = int(input())\n",
    "arr = [list(map(int, input().split())) for _ in range(N)]\n",
    "\n",
    "max_v = 0 # 모든 원소가 0 이상이라면..\n",
    "for i in range(N):  # 모든 원소 arr[i][j]에 대해\n",
    "    for j in range(N):\n",
    "        # arr[i][j] 중심으로\n",
    "        s = arr[i][j]\n",
    "        for k in range(4):\n",
    "            ni, nj = i + di[k], j + dj[k]\n",
    "            if 0 <= ni < N and 0 <= nj < N: # 배열을 벗어나지 않으면\n",
    "                s += arr[ni][nj]\n",
    "                \n",
    "        # 여기까지 주변 원소를 포함한 합"
   ]
  },
  {
   "cell_type": "code",
   "execution_count": null,
   "metadata": {},
   "outputs": [],
   "source": [
    "# 전치행렬 대각선을 기준으로 양쪽을 바꾸는 방법\n",
    "\n",
    "# i : 행의 좌표, len(arr)\n",
    "# j : 열의 좌표, len(arr[0])\n",
    "arr = [[1, 2, 3], [4, 5, 6], [7, 8, 9]] # 행렬\n",
    "\n",
    "for i in range(3):\n",
    "    for j in range(3) :\n",
    "        if i < j : # 위와 아래 구분\n",
    "            arr[i][j], arr[j][i] = arr[j][i], arr[i][j]"
   ]
  },
  {
   "cell_type": "code",
   "execution_count": null,
   "metadata": {},
   "outputs": [],
   "source": [
    "# 대각선 정방향과 대각선 반대쪽\n",
    "N = int(N)\n",
    "arr = [list(map(int, input().split())) for _ in range(N)]\n",
    "\n",
    "total1 = 0\n",
    "total2 = 0\n",
    "\n",
    "for i in range(N):\n",
    "    total1 += arr[i][i]\n",
    "    total2 += arr[i][N-1-i]"
   ]
  },
  {
   "cell_type": "markdown",
   "metadata": {},
   "source": [
    "# 부분 집합\n",
    "\n",
    "1. 부분집합은 원소가 n 개일때 공집합을 포함한 부분집합의 수는 2의n승이 된다\n",
    "  1 << 0 == 1\n",
    "  1 << 1 == 10\n",
    "  1 << 2 == 100 \n",
    "  즉 1을 왼쪽으로 몇번 쉬프트 하나\n",
    "  이걸 이진수로 나타내면 1, 1, 4\n",
    "\n",
    "2. 비교시\n",
    "  for x in range"
   ]
  },
  {
   "cell_type": "code",
   "execution_count": 5,
   "metadata": {},
   "outputs": [
    {
     "name": "stdout",
     "output_type": "stream",
     "text": [
      "1\n"
     ]
    }
   ],
   "source": [
    "# sub_set\n",
    "numbers = [-7, -3, -2, 5, 8]\n",
    "N = 5\n",
    "\n",
    "# numbers로 만들 수 있는 모든 경우의 수\n",
    "# 1 << N == 2 ** N\n",
    "# 1 을 왼쪽으로 3번 쉬프트 한다\n",
    "# 0001 -> 1000\n",
    "for x in range(1<<N):\n",
    "    result = 0\n",
    "    # 그 모든 경우의 수에서,\n",
    "    # numbers의 y번째 요소가\n",
    "    # x번 경우의 수에 사용되었는지를 판별\n",
    "    # x번 경우의 수가 1 일때 bit -> 0001 형태\n",
    "    # numbers의 y번째 요소(0번째 요소) -> 0001\n",
    "    # numbers의 0번째 요소가 0001 -> (1 << 0)\n",
    "    # numbers의 1번째 요소가 0010 -> (1 << 1)\n",
    "    for y in range(N):\n",
    "        if x & (1 << y):\n",
    "            result += numbers[y]\n",
    "    if result == 0:\n",
    "        print(1)\n",
    "        break"
   ]
  }
 ],
 "metadata": {
  "kernelspec": {
   "display_name": "Python 3",
   "language": "python",
   "name": "python3"
  },
  "language_info": {
   "codemirror_mode": {
    "name": "ipython",
    "version": 3
   },
   "file_extension": ".py",
   "mimetype": "text/x-python",
   "name": "python",
   "nbconvert_exporter": "python",
   "pygments_lexer": "ipython3",
   "version": "3.9.13"
  },
  "orig_nbformat": 4
 },
 "nbformat": 4,
 "nbformat_minor": 2
}
