{
 "cells": [
  {
   "cell_type": "markdown",
   "metadata": {},
   "source": [
    "# 부분집합의 수\n",
    " - 공식은 이렇게 된다 예를들어 1, 2, 3, 4 에 대한 부분집합을 구한다고 하면 1이 있거나 없는 경우 Y 와 N 두가지가 나온다 2로 가면 이제 1이 있는경우와 Y 와 N 그리고 1이 없는 경우의 Y 와 N 이렇게 4가지 그 다음도 각각의 상황에 3이 있고없고를 추가하므로 늘어날때마다 2를 제곱해주면된다. 즉 식은 공집합의 갯수를 n 이라 하면 2의n승이 식이 된다."
   ]
  },
  {
   "cell_type": "markdown",
   "metadata": {},
   "source": [
    "# 이진 검색\n",
    "자료의 가운데에 있는 항목의 키 값과 비교하여 다음 검색의 위치를 결정하고 검색을 계속 진행하는 방법\n",
    "\n",
    "- 목적 키를 찾을 떄까지 이진 검색을 순환적으로 반복 수행함으로써 검색 범위를 반으로 줄여가면서 보다 빠르게 검색을 수행\n",
    "- 또한 이진 검색을 하기 위해서는 자료가 정렬된 상태여야 한다\n",
    "\n",
    "  ### 검색 과정\n",
    "  1. 자료의 중앙에 있는 원소를 고른다\n",
    "  2. 중앙원소의 값과 찾고자 하는 목표 값을 비교\n",
    "  3. 목표 값이 중앙 원소의 값보다 작으면 자료의 왼쪽 반에 대해서 새로 검색을 수행하고, 크다면 자료의 오른쪽 반에 대해서 새로 검색을 수행한다.\n",
    "\n",
    "  ex) 7 찾기 예시\n",
    "  7 < 9 => 왼쪽 검색\n",
    "  (2 4 7) 9 11 19 23 괄호만 검색\n",
    "  7 > 4 => 오른쪽만 검색\n",
    "  2 4 (7 9 11 19 23)"
   ]
  },
  {
   "cell_type": "code",
   "execution_count": null,
   "metadata": {},
   "outputs": [],
   "source": [
    "# arr : 원본배열\n",
    "# N : 배열의 길이\n",
    "# key : 타겟\n",
    "\n",
    "def binary_search(arr, N, key):\n",
    "    start = 0\n",
    "    end = N - 1 # 끝인덱스\n",
    "    while start <= end: # 시작지점이 끝지점보다 작거나 같은 동안\n",
    "        mid = (start + end) // 2 # 중앙 인덱스\n",
    "        # 중앙 위치가 내가 찾는 대상이라면\n",
    "        if arr[mid] == key:\n",
    "            return True\n",
    "        # 아니, 중앙 위치 값이 내 키 값보다 크면\n",
    "        elif arr[mid] > key :\n",
    "            end = mid - 1\n",
    "        # 아니, 중앙 위치 값이 내 키 값보다 작으면\n",
    "        else :\n",
    "            start = mid + 1"
   ]
  },
  {
   "cell_type": "code",
   "execution_count": null,
   "metadata": {},
   "outputs": [],
   "source": [
    "def selction_sort(arr):\n",
    "    # 배열 전체 길이 만큼\n",
    "    # i -> 순차적으로 증가하는 index\n",
    "    for i in range(len(arr)):\n",
    "        # 최솟값의 index\n",
    "        # 뒤에 조사 하는 대상이 내 위치보다 작을지 클지 모르니까\n",
    "        # 일단 내 위치가 제일 작다고 가정해보자\n",
    "        min_idx = i\n",
    "        for j in range(i+1, len(arr)):\n",
    "            # 현재까지 최솟값이 담겨 있다고 판단되는 위치의 값과\n",
    "            # 새롭게 조사할 j번째 위치의 값을 크기 비교\n",
    "            if arr[min_idx] > arr[j]:\n",
    "                # 최솟값의 위치 index정보를 j 번째로 변경\n",
    "                min_idx = j\n",
    "        arr[i], arr[min_idx] = arr[min_idx], arr[i]\n",
    "\n",
    "arr = [93, 19, 63, 72, 13, 8, 1, 41, 33]\n",
    "N = len(arr)\n",
    "selction_sort(arr)\n",
    "print(arr)"
   ]
  }
 ],
 "metadata": {
  "language_info": {
   "name": "python"
  },
  "orig_nbformat": 4
 },
 "nbformat": 4,
 "nbformat_minor": 2
}
