{
 "cells": [
  {
   "cell_type": "markdown",
   "metadata": {},
   "source": [
    "# Bootstrap Grid system\n",
    " - 웹 페이지의 레이아웃을 조정하는 데 사용되는 12개의 컬럼으로 구성된 시스템(즉 가로로 12개의 컬럼을 가지고 이용하는것)\n",
    "  ### Grid system 기본 요소\n",
    "   - container : Column들을 담고 있는 공간\n",
    "   - Column : 실제 컨텐츠를 포함하는 부분\n",
    "   - Gutter : 컬럼과 컬럼 사이의 여백 영역"
   ]
  }
 ],
 "metadata": {
  "language_info": {
   "name": "python"
  },
  "orig_nbformat": 4
 },
 "nbformat": 4,
 "nbformat_minor": 2
}
