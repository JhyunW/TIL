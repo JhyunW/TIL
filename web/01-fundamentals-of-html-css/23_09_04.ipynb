{
 "cells": [
  {
   "cell_type": "markdown",
   "metadata": {},
   "source": [
    "# HTML : HyperText Markup Language\n",
    " - 웹 페이지의 의미와 구조를 정의하는 언어\n",
    " - Hyper : 웹 페이지를 다른 페이지로 연결하는 링크 참조를 통해 사용자가 한 문서에서 다른 문서로 즉시 접근할 수 있는 텍스트\n",
    " - Markup Language : 태그 등을 이용하여 문서나 데이터의 구조를 명시하는 언어\n"
   ]
  },
  {
   "cell_type": "markdown",
   "metadata": {},
   "source": [
    "### HTML 구조\n",
    " - <!DOCTYPE html> : 해당 문서가 html문서라는 것을 나타냄\n",
    " - <html></html> : 전체 페이지의 콘텐츠를 포함\n",
    " - <title></title> : 전체 페이지의 콘텐츠를 포함\n",
    " - <head></head> : HTML문서에 관련될 설명, 설정등 사용자에겐 보이지 않음\n",
    " - <body></body> : 페이지에 표시되는 모든 콘텐츠\n",
    " - ! + TAB 으로 HTML 기본 틀 완성 가능\n",
    " - alt + b 로 실시간 페이지 보기 가능\n",
    " - 태그 이름 + TAB으로 완성"
   ]
  },
  {
   "cell_type": "markdown",
   "metadata": {},
   "source": [
    "### HTML 속성\n",
    " 1. 규칙\n",
    "  - 속성은 요소 이름과 속성 사이에 공백이 있어야 함\n",
    "  - 하나 이상의 속성들이 있는 경우엔 속성 사이에 공백으로 구분함\n",
    "  - 속성 값은 열고 닫는 따옴표로 감싸야 함\n",
    " 2. 목적\n",
    "  - 나타내고 싶지 않지만 추가적인 기능, 내용을 담고 싶을 때 사용\n",
    "  - CSS에서 해당 요소를 선택하기 위한 값으로 활용됨"
   ]
  },
  {
   "cell_type": "markdown",
   "metadata": {},
   "source": [
    "### HTML Text structure : HTML의 텍스트 구조\n",
    " - Heading & Paragraphs"
   ]
  },
  {
   "cell_type": "markdown",
   "metadata": {},
   "source": [
    "# CSS : Cascading Style Sheet\n",
    " - 웹 페이지의 디자인과 레이아웃을 구성하는 언어\n",
    "### 적용방법\n",
    " 1. 인라인 스타일 : HTML 요소 안에 style 속성 값으로 작성\n",
    " 2. 내부 스타일 시트 : head태그 안에 style 태그에 작성\n",
    " 3. 외부 스타일 시트 : 별도의 CSS파일 생성 후 HTML link 태그를 사용해 불러오기"
   ]
  },
  {
   "cell_type": "markdown",
   "metadata": {},
   "source": [
    "# CSS Selectors 종류\n",
    " - 전체 선택자(*) : HTML 모든 요소를 선택\n",
    " - 요소 선택자 : 지정한 모든 태그를 선택\n",
    " - 클래스 선택자('.'(dot)) : 주어진 클래스 속성을 가진 모든 요소를 선택\n",
    " - 아이디 선택자('#') : 주어진 아이디 속성을 가진 요소를 선택, 문서에는 주어진 아이디를 가진 요소가 하나만 있어야 함.\n",
    " - 자손 결합자(\" \"(space)) : 첫 번째 요소의 자손 요소들 선택\n",
    " ex : p span은 <p> 안에 있는 모든 <span>를 선택 (하위레벨 상관x)\n",
    " - 자식 결합자(\">\") : 첫 번째 요소의 직계 자식만 선택\n",
    " ex : ul > li은 <ul>안에 있는 모든 <li>를 선택 (한단계 아래 자식들만)"
   ]
  },
  {
   "cell_type": "markdown",
   "metadata": {},
   "source": [
    "## Specificity : 우선순위\n",
    " - 동일한 요소에 적용 가능한 같은 스타일을 두 가지 이상 작성 했을 떄 어떤 규칙이 적용 되는지 결정하는 것\n",
    " - Cascade : 계단식 적용순서\n",
    " \n",
    "## 우선순위가 높은 순\n",
    " 1. Importance : 가장 우선 순위 But 권장하지 않음.\n",
    "    - !important\n",
    " 2. Inline 스타일\n",
    " 3. 선택자\n",
    "    - id 선택자 > class 선택자 > 요소 선택자\n",
    " 4. 소스 코드 순서\n"
   ]
  },
  {
   "cell_type": "markdown",
   "metadata": {},
   "source": [
    "# HTML 관련 사항\n",
    " - 태그 이름은 대소문자 둘다 가능하지만 소문자 사용을 권장\n",
    " - 속성의 따옴표도 큰, 작은 둘다 가능하지만 큰따옴표 권장\n",
    " - HTML은 프로그래밍 언어와 달리 에러를 반환하지 않기 때문에 작성 시 주의\n",
    " - 인라인 스타일 왠만하면 사용않기\n",
    " - 모르는거에 대해 검색할때 how to ~~~ MDN 식으로 MDN붙여서 검색하기\n",
    "\n"
   ]
  }
 ],
 "metadata": {
  "language_info": {
   "name": "python"
  },
  "orig_nbformat": 4
 },
 "nbformat": 4,
 "nbformat_minor": 2
}
