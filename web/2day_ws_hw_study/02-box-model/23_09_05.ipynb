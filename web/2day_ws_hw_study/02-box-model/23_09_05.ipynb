{
 "cells": [
  {
   "cell_type": "markdown",
   "metadata": {},
   "source": [
    "# box 구성요소\n",
    " - 바깥부터\n",
    " 1. Margin : 이 박스와 다른 요소 사이의 공백\n",
    " 2. border : 콘텐츠와 패딩을 감싸는 테두리 영역\n",
    " 3. Padding : 콘텐츠 주위에 위치하는 공백 영역\n",
    " 4. Content : 콘텐츠가 표시되는 영역\n",
    "\n",
    " - 방향별 명칭\n",
    " 1. 위 : top\n",
    " 2. 오른쪽 : right\n",
    " 3. 왼쪽 : left\n",
    " 4. 밑 : bottom\n",
    " - 콘텐츠 영역을 기준으로 하는 범위\n",
    " 5. 너비 : width\n",
    " 6. 높이 : height"
   ]
  },
  {
   "cell_type": "markdown",
   "metadata": {},
   "source": [
    "# box 타입\n",
    "\n",
    "### 1.block 박스 : 블럭은 한 줄을 다 차지\n",
    " - 특징\n",
    "  1. 항상 새로운 행으로 나뉨\n",
    "  2. width와 height 속성을 지정하지 않으면 박스는 inline 방향으로 사용 가능한 공간을 모두 차지\n",
    "  3. 대표적 block 타입 태그 (h, p, div)\n",
    "\n",
    "### 2.inline 박스 : 인라인은 자신의 영역만 차지\n",
    " - 특징\n",
    "  1. 새로운 행으로 나뉘지 않음\n",
    "  2. wudth와 height 속성을 사용할 수 없음\n",
    "  3. 수직 방향 (padding, margins, borders가 적용되지만 다른 요소를 밀어낼 수는 없음)\n",
    "  4. 수평 방향 (padding, margins, borders가 적용되지만 다른 요소를 밀어낼 수 있음)\n",
    "  5. 대표적인 inline 타입 태그(a, img, span)\n",
    "\n",
    "### 3. inline-block\n",
    " - 특징\n",
    "  1. 인라인과 블럭 요소 사이의 중간 지점을 제공하는 디스플레이값\n",
    "  2. 블럭 요소의 특징을 가짐\n",
    "  width와 height속성 사용 가능 padding margin 및 보더로 인해 다른 요소가 밀려남\n",
    "\n",
    "  즉 줄 바꿈되는 것을 원하지 않으면서 너비와 높이를 적용하고 싶은 경우에 사용"
   ]
  }
 ],
 "metadata": {
  "language_info": {
   "name": "python"
  },
  "orig_nbformat": 4
 },
 "nbformat": 4,
 "nbformat_minor": 2
}
