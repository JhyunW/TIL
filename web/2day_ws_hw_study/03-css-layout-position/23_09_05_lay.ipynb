{
 "cells": [
  {
   "cell_type": "markdown",
   "metadata": {},
   "source": [
    "# 포지션 유형별 특징\n",
    " 1. static\n",
    "  - 기본값\n",
    "  - 요소를 Normal Flow에서 따라 배치\n",
    "\n",
    " 2. relative\n",
    "  - 요소를 Normal Flow에 따라 배치\n",
    "  - 자기 자신을 기준으로 이동\n",
    "  - 요소가 차지하는 공간은 static일 때와 같음\n",
    "\n",
    " 3. absolute\n",
    "  - 요소를 Noraml Flow에서 제거\n",
    "  - 가장 가까운 relative 부모 요소를 기준으로 이동\n",
    "  - 문서에서 요소가 차지하는 공간이 없어짐\n",
    "\n",
    " 4. fixed\n",
    "  - 요소를 Normal Flow에서 제거\n",
    "  - 현재 화면영역(viewport)을 기준으로 이동\n",
    "  - 문서에서 요소가 차지하는 공간이 없어짐\n",
    "\n",
    " 5. sticky\n",
    "  - 요소를 Normal Flow에 따라 배치\n",
    "  - 요소가 일반적인 문서 흐름에 따라 배치되다가 스크롤이 특정 임계점에 도달하면 그 위치에서 고정됨\n",
    "  - 만약 다른 sticky 요소가 나오면 다음 sticky 요소가 이전 sticky요소의 자리를 대체"
   ]
  },
  {
   "cell_type": "markdown",
   "metadata": {},
   "source": [
    "# z-index 특징 : z-index: 2; 식으로 지정 숫자가 클수록 앞으로\n"
   ]
  }
 ],
 "metadata": {
  "language_info": {
   "name": "python"
  },
  "orig_nbformat": 4
 },
 "nbformat": 4,
 "nbformat_minor": 2
}
