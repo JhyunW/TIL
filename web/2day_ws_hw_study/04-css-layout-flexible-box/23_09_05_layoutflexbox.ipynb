{
 "cells": [
  {
   "cell_type": "markdown",
   "metadata": {},
   "source": [
    "# CSS Flexbox\n",
    " - 요소를 행과 열 형태로 배치하는 1차원 레이아웃 방식으로 공간배열 & 정렬 가능\n",
    "\n",
    " ## 특징\n",
    "  1. 플랙스박스는 부모(flex container)가 자식(flex item)을 컨트롤함\n",
    "  2. 축은 별다른 설정이 없으면 수평축이 메인 축, 세로가 크로스 축\n",
    "  3. 플렉스 박스의 시작점은 왼쪽 교차점 시작은 위. 별다른 설정이 없을시.\n",
    "\n",
    "\n",
    " ## 순서\n",
    "  1. flex container 부모 먼저 지정\n",
    "  2. 메인축의 방향 설정\n",
    "  3. 한 행에에 안들어갈때 다음 행으로 갈지 말지 결정\n",
    "  4. justify-content 주 축을 따라 공간을 분배\n",
    "  5. align(교차 축)-content : 여러 행을 교차축으로 itmes는 하나하나\n",
    "  6. 배치 flex-direction/wrap, 공간분배 justify/align-content, 정렬 align-items/self"
   ]
  }
 ],
 "metadata": {
  "language_info": {
   "name": "python"
  },
  "orig_nbformat": 4
 },
 "nbformat": 4,
 "nbformat_minor": 2
}
