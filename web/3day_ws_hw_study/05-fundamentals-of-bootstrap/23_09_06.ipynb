{
 "cells": [
  {
   "cell_type": "markdown",
   "metadata": {},
   "source": [
    "# Bootstrap\n",
    " - CSS 프론트엔드 프레임워크(툴킷)\n",
    " - 미리 만들어진 다양한 디자인 요소들을 제공하며 웹 사이트를 빠르고 쉽게 개발할 수 있도록 함\n",
    " - Bootstrap 은 기본적으로 클래스로 사용"
   ]
  },
  {
   "cell_type": "markdown",
   "metadata": {},
   "source": [
    "# Typography\n"
   ]
  },
  {
   "cell_type": "markdown",
   "metadata": {},
   "source": [
    "# component\n",
    " - 경고"
   ]
  }
 ],
 "metadata": {
  "language_info": {
   "name": "python"
  },
  "orig_nbformat": 4
 },
 "nbformat": 4,
 "nbformat_minor": 2
}
